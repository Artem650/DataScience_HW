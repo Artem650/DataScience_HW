{
  "cells": [
    {
      "cell_type": "code",
      "execution_count": 4,
      "id": "5e56816e",
      "metadata": {
        "colab": {
          "base_uri": "https://localhost:8080/"
        },
        "id": "5e56816e",
        "outputId": "3ef0fbb1-3c64-4781-f0ae-d80bc3c7c0d2"
      },
      "outputs": [
        {
          "output_type": "stream",
          "name": "stdout",
          "text": [
            "Collecting scikit-surprise\n",
            "  Downloading scikit_surprise-1.1.4.tar.gz (154 kB)\n",
            "\u001b[?25l     \u001b[90m━━━━━━━━━━━━━━━━━━━━━━━━━━━━━━━━━━━━━━━━\u001b[0m \u001b[32m0.0/154.4 kB\u001b[0m \u001b[31m?\u001b[0m eta \u001b[36m-:--:--\u001b[0m\r\u001b[2K     \u001b[91m━━━━━━━━━━━━━━━━━━━━━━━━━━━━━━━━━━━━━━━\u001b[0m\u001b[91m╸\u001b[0m \u001b[32m153.6/154.4 kB\u001b[0m \u001b[31m5.5 MB/s\u001b[0m eta \u001b[36m0:00:01\u001b[0m\r\u001b[2K     \u001b[90m━━━━━━━━━━━━━━━━━━━━━━━━━━━━━━━━━━━━━━━━\u001b[0m \u001b[32m154.4/154.4 kB\u001b[0m \u001b[31m4.0 MB/s\u001b[0m eta \u001b[36m0:00:00\u001b[0m\n",
            "\u001b[?25h  Installing build dependencies ... \u001b[?25l\u001b[?25hdone\n",
            "  Getting requirements to build wheel ... \u001b[?25l\u001b[?25hdone\n",
            "  Preparing metadata (pyproject.toml) ... \u001b[?25l\u001b[?25hdone\n",
            "Requirement already satisfied: joblib>=1.2.0 in /usr/local/lib/python3.10/dist-packages (from scikit-surprise) (1.4.2)\n",
            "Requirement already satisfied: numpy>=1.19.5 in /usr/local/lib/python3.10/dist-packages (from scikit-surprise) (1.25.2)\n",
            "Requirement already satisfied: scipy>=1.6.0 in /usr/local/lib/python3.10/dist-packages (from scikit-surprise) (1.11.4)\n",
            "Building wheels for collected packages: scikit-surprise\n",
            "  Building wheel for scikit-surprise (pyproject.toml) ... \u001b[?25l\u001b[?25hdone\n",
            "  Created wheel for scikit-surprise: filename=scikit_surprise-1.1.4-cp310-cp310-linux_x86_64.whl size=2357247 sha256=f42e26a9e6a7e8a0abeb203d024356682f24d31411d39ad8b2d6e0805a81633d\n",
            "  Stored in directory: /root/.cache/pip/wheels/4b/3f/df/6acbf0a40397d9bf3ff97f582cc22fb9ce66adde75bc71fd54\n",
            "Successfully built scikit-surprise\n",
            "Installing collected packages: scikit-surprise\n",
            "Successfully installed scikit-surprise-1.1.4\n"
          ]
        }
      ],
      "source": [
        "pip install scikit-surprise"
      ]
    },
    {
      "cell_type": "code",
      "execution_count": 8,
      "id": "97f4219a",
      "metadata": {
        "id": "97f4219a"
      },
      "outputs": [],
      "source": [
        "import pandas as pd\n",
        "import numpy as np\n",
        "from surprise.model_selection import train_test_split, cross_validate, GridSearchCV\n",
        "import matplotlib.pyplot as plt\n",
        "from surprise import accuracy, Dataset\n",
        "from surprise import SVD, SVDpp, NMF\n",
        "from scipy.io import loadmat"
      ]
    },
    {
      "cell_type": "code",
      "execution_count": 9,
      "id": "d0f756d3",
      "metadata": {
        "id": "d0f756d3"
      },
      "outputs": [],
      "source": [
        "data = Dataset.load_builtin('ml-100k')"
      ]
    },
    {
      "cell_type": "markdown",
      "id": "534dd63f",
      "metadata": {
        "id": "534dd63f"
      },
      "source": [
        "### Prepare the data"
      ]
    },
    {
      "cell_type": "code",
      "execution_count": 10,
      "id": "4c8fa70c",
      "metadata": {
        "colab": {
          "base_uri": "https://localhost:8080/"
        },
        "id": "4c8fa70c",
        "outputId": "5b3011a0-af7b-4051-d5dc-40b0ad3c6496"
      },
      "outputs": [
        {
          "output_type": "stream",
          "name": "stdout",
          "text": [
            "  user_id item_id  rating unix_timestamp\n",
            "0     196     242     3.0      881250949\n",
            "1     186     302     3.0      891717742\n",
            "2      22     377     1.0      878887116\n",
            "3     244      51     2.0      880606923\n",
            "4     166     346     1.0      886397596\n"
          ]
        }
      ],
      "source": [
        "data_df = pd.DataFrame(data.raw_ratings, columns=[\"user_id\", \"item_id\", \"rating\", \"unix_timestamp\"])\n",
        "print(data_df.head())"
      ]
    },
    {
      "cell_type": "code",
      "execution_count": 11,
      "id": "f4a5460e",
      "metadata": {
        "colab": {
          "base_uri": "https://localhost:8080/"
        },
        "id": "f4a5460e",
        "outputId": "364d8ef1-03db-44c0-b846-fd5e0303defc"
      },
      "outputs": [
        {
          "output_type": "stream",
          "name": "stdout",
          "text": [
            "Total No of user in data_df:  943\n",
            "Total No of item in data_df:  1682\n",
            "\n",
            "Max rating 5.0\n",
            "Min rating 1.0\n",
            "\n",
            "Max No of user rating:  737\n",
            "Min No of user rating:  20\n",
            "Mediam No of user rating:  65.0\n",
            "\n",
            "Max No of item rating:  583\n",
            "Min No of item rating:  1\n",
            "Mediam No of item rating:  27.0\n"
          ]
        }
      ],
      "source": [
        "print(\"Total No of user in data_df: \", len(data_df.user_id.unique()))\n",
        "print(\"Total No of item in data_df: \", len(data_df.item_id.unique()))\n",
        "\n",
        "print(\"\\nMax rating\", data_df.rating.max())\n",
        "print(\"Min rating\", data_df.rating.min())\n",
        "\n",
        "rating_per_user = data_df.groupby('user_id').rating.count()\n",
        "rating_per_item = data_df.groupby('item_id').rating.count()\n",
        "\n",
        "print(\"\\nMax No of user rating: \", rating_per_user.max())\n",
        "print(\"Min No of user rating: \", rating_per_user.min())\n",
        "print(\"Mediam No of user rating: \", rating_per_user.median())\n",
        "\n",
        "print(\"\\nMax No of item rating: \", rating_per_item.max())\n",
        "print(\"Min No of item rating: \", rating_per_item.min())\n",
        "print(\"Mediam No of item rating: \", rating_per_item.median())"
      ]
    },
    {
      "cell_type": "markdown",
      "id": "eb2e1e52",
      "metadata": {
        "id": "eb2e1e52"
      },
      "source": [
        "### Initialize the models"
      ]
    },
    {
      "cell_type": "code",
      "execution_count": 12,
      "id": "0bc88b02",
      "metadata": {
        "id": "0bc88b02"
      },
      "outputs": [],
      "source": [
        "svd_model = SVD()\n",
        "svdpp_model = SVDpp()\n",
        "nmf_model = NMF()"
      ]
    },
    {
      "cell_type": "code",
      "execution_count": 13,
      "id": "4cc1ca2a",
      "metadata": {
        "colab": {
          "base_uri": "https://localhost:8080/"
        },
        "id": "4cc1ca2a",
        "outputId": "af0bc58e-8e56-4000-d925-d263ae22af2a"
      },
      "outputs": [
        {
          "output_type": "stream",
          "name": "stdout",
          "text": [
            "Evaluating RMSE, MAE of algorithm SVD on 5 split(s).\n",
            "\n",
            "                  Fold 1  Fold 2  Fold 3  Fold 4  Fold 5  Mean    Std     \n",
            "RMSE (testset)    0.9380  0.9308  0.9362  0.9468  0.9275  0.9358  0.0066  \n",
            "MAE (testset)     0.7415  0.7334  0.7374  0.7448  0.7313  0.7377  0.0050  \n",
            "Fit time          1.54    1.43    1.45    1.47    2.10    1.60    0.25    \n",
            "Test time         0.23    0.13    0.21    0.17    0.20    0.19    0.03    \n",
            "Evaluating RMSE, MAE of algorithm SVDpp on 5 split(s).\n",
            "\n",
            "                  Fold 1  Fold 2  Fold 3  Fold 4  Fold 5  Mean    Std     \n",
            "RMSE (testset)    0.9087  0.9269  0.9140  0.9143  0.9252  0.9178  0.0070  \n",
            "MAE (testset)     0.7111  0.7258  0.7168  0.7185  0.7248  0.7194  0.0054  \n",
            "Fit time          26.40   26.77   26.46   26.36   26.57   26.51   0.15    \n",
            "Test time         4.77    5.94    4.60    5.55    4.87    5.15    0.51    \n",
            "Evaluating RMSE, MAE of algorithm NMF on 5 split(s).\n",
            "\n",
            "                  Fold 1  Fold 2  Fold 3  Fold 4  Fold 5  Mean    Std     \n",
            "RMSE (testset)    0.9698  0.9674  0.9606  0.9584  0.9644  0.9641  0.0042  \n",
            "MAE (testset)     0.7595  0.7615  0.7571  0.7526  0.7591  0.7580  0.0030  \n",
            "Fit time          2.07    2.96    2.10    2.08    2.04    2.25    0.36    \n",
            "Test time         0.11    0.11    0.10    0.10    0.22    0.13    0.05    \n"
          ]
        },
        {
          "output_type": "execute_result",
          "data": {
            "text/plain": [
              "{'test_rmse': array([0.96978438, 0.96738343, 0.96061479, 0.95844593, 0.96437537]),\n",
              " 'test_mae': array([0.75951874, 0.76149639, 0.75709733, 0.75262115, 0.75907012]),\n",
              " 'fit_time': (2.0694143772125244,\n",
              "  2.958601474761963,\n",
              "  2.100461721420288,\n",
              "  2.07578182220459,\n",
              "  2.04166316986084),\n",
              " 'test_time': (0.11495566368103027,\n",
              "  0.10683298110961914,\n",
              "  0.10342216491699219,\n",
              "  0.10053586959838867,\n",
              "  0.21875357627868652)}"
            ]
          },
          "metadata": {},
          "execution_count": 13
        }
      ],
      "source": [
        "cross_validate(svd_model, data, measures=['RMSE', 'MAE'], cv=5, verbose=True)\n",
        "cross_validate(svdpp_model, data, measures=['RMSE', 'MAE'], cv=5, verbose=True)\n",
        "cross_validate(nmf_model, data, measures=['RMSE', 'MAE'], cv=5, verbose=True)"
      ]
    },
    {
      "cell_type": "code",
      "execution_count": 14,
      "id": "fb60c9d4",
      "metadata": {
        "id": "fb60c9d4"
      },
      "outputs": [],
      "source": [
        "def find_best_parameters(model_class, param_grid, trainset, data):\n",
        "    grid_search = GridSearchCV(model_class, param_grid, measures=['rmse', 'mae'], cv=3)\n",
        "    grid_search.fit(data)\n",
        "\n",
        "    print(grid_search.best_params['rmse'])\n",
        "    print(grid_search.best_params['mae'])\n",
        "\n",
        "    best_params = grid_search.best_params['rmse']\n",
        "    best_model = model_class(n_epochs=best_params['n_epochs'], lr_all=best_params['lr_all'], reg_all=best_params['reg_all'])\n",
        "    best_model.fit(trainset)\n",
        "\n",
        "    predictions = best_model.test(testset)\n",
        "    rmse_svdpp = accuracy.rmse(predictions)\n",
        "    print(f'MAE on test set: {mae}')\n",
        "    print(f'RMSE on test set: {rmse_svd}')"
      ]
    },
    {
      "cell_type": "markdown",
      "id": "5635f3e8",
      "metadata": {
        "id": "5635f3e8"
      },
      "source": [
        "#### SVD"
      ]
    },
    {
      "cell_type": "code",
      "execution_count": 15,
      "id": "5ebf41ec",
      "metadata": {
        "colab": {
          "base_uri": "https://localhost:8080/"
        },
        "id": "5ebf41ec",
        "outputId": "47636b80-4b10-4119-cda2-b52745163bd1"
      },
      "outputs": [
        {
          "output_type": "stream",
          "name": "stdout",
          "text": [
            "{'n_epochs': 15, 'lr_all': 0.01, 'reg_all': 0.4}\n",
            "{'n_epochs': 15, 'lr_all': 0.01, 'reg_all': 0.4}\n"
          ]
        }
      ],
      "source": [
        "param_grid = {'n_epochs': [5, 10, 15], 'lr_all': [0.002, 0.005, 0.01], 'reg_all': [0.4, 0.6, 0.8]}\n",
        "grid_search = GridSearchCV(SVD, param_grid, measures=['rmse', 'mae'], cv=3)\n",
        "grid_search.fit(data)\n",
        "print(grid_search.best_params['rmse'])\n",
        "print(grid_search.best_params['mae'])"
      ]
    },
    {
      "cell_type": "code",
      "execution_count": 16,
      "id": "2be43809",
      "metadata": {
        "id": "2be43809"
      },
      "outputs": [],
      "source": [
        "best_params = grid_search.best_params['rmse']\n",
        "best_model = SVD(n_epochs=best_params['n_epochs'], lr_all=best_params['lr_all'], reg_all=best_params['reg_all'])"
      ]
    },
    {
      "cell_type": "code",
      "execution_count": 17,
      "id": "e597d861",
      "metadata": {
        "id": "e597d861"
      },
      "outputs": [],
      "source": [
        "trainset, testset = train_test_split(data, test_size=0.2, random_state=42)\n",
        "train_data = trainset.build_testset()\n",
        "train_df = pd.DataFrame(train_data, columns=[\"user_id\", \"item_id\", \"rating\"])"
      ]
    },
    {
      "cell_type": "code",
      "execution_count": 18,
      "id": "31ca363b",
      "metadata": {
        "colab": {
          "base_uri": "https://localhost:8080/"
        },
        "id": "31ca363b",
        "outputId": "0141923f-825c-4463-ed2d-5ad11a281b7c"
      },
      "outputs": [
        {
          "output_type": "stream",
          "name": "stdout",
          "text": [
            "MAE:  0.7667\n",
            "RMSE: 0.9587\n",
            "MAE on test set: 0.7667393551731647\n",
            "RMSE on test set: 0.9587176681657164\n"
          ]
        }
      ],
      "source": [
        "best_model.fit(trainset)\n",
        "predictions = best_model.test(testset)\n",
        "mae = accuracy.mae(predictions)\n",
        "rmse_svd = accuracy.rmse(predictions)\n",
        "print(f'MAE on test set: {mae}')\n",
        "print(f'RMSE on test set: {rmse_svd}')"
      ]
    },
    {
      "cell_type": "code",
      "execution_count": 19,
      "id": "07574ef6",
      "metadata": {
        "colab": {
          "base_uri": "https://localhost:8080/"
        },
        "id": "07574ef6",
        "outputId": "5d276099-52c5-446e-e1e4-9321ac9c01b1"
      },
      "outputs": [
        {
          "output_type": "stream",
          "name": "stdout",
          "text": [
            "{'n_epochs': 15, 'lr_all': 0.01, 'reg_all': 0.4}\n",
            "{'n_epochs': 15, 'lr_all': 0.01, 'reg_all': 0.4}\n",
            "RMSE: 0.9587\n",
            "MAE on test set: 0.7667393551731647\n",
            "RMSE on test set: 0.9587176681657164\n"
          ]
        }
      ],
      "source": [
        "find_best_parameters(SVD,param_grid, trainset, data)"
      ]
    },
    {
      "cell_type": "markdown",
      "id": "56799518",
      "metadata": {
        "id": "56799518"
      },
      "source": [
        "#### SVD++"
      ]
    },
    {
      "cell_type": "code",
      "execution_count": 20,
      "id": "3bc141e8",
      "metadata": {
        "id": "3bc141e8"
      },
      "outputs": [],
      "source": [
        "def find_best_parameters(model_class, param_grid, trainset, data):\n",
        "    grid_search = GridSearchCV(model_class, param_grid, measures=['rmse', 'mae'], cv=3)\n",
        "    grid_search.fit(data)\n",
        "\n",
        "    print(grid_search.best_params['rmse'])\n",
        "    print(grid_search.best_params['mae'])\n",
        "\n",
        "    best_params = grid_search.best_params['rmse']\n",
        "    best_model = model_class(n_epochs=best_params['n_epochs'], lr_all=best_params['lr_all'], reg_all=best_params['reg_all'])\n",
        "    best_model.fit(trainset)\n",
        "\n",
        "    predictions = best_model.test(testset)\n",
        "    rmse_svdpp = accuracy.rmse(predictions)\n",
        "    print(f'MAE on test set: {mae}')\n",
        "    print(f'RMSE on test set: {rmse_svd}')\n"
      ]
    },
    {
      "cell_type": "code",
      "execution_count": 21,
      "id": "b96c3e67",
      "metadata": {
        "colab": {
          "base_uri": "https://localhost:8080/"
        },
        "id": "b96c3e67",
        "outputId": "3df644a0-2f37-4636-db77-0d3b25318215"
      },
      "outputs": [
        {
          "output_type": "stream",
          "name": "stdout",
          "text": [
            "{'n_epochs': 15, 'lr_all': 0.01, 'reg_all': 0.4}\n",
            "{'n_epochs': 15, 'lr_all': 0.01, 'reg_all': 0.4}\n",
            "RMSE: 0.9587\n",
            "MAE on test set: 0.7667393551731647\n",
            "RMSE on test set: 0.9587176681657164\n"
          ]
        }
      ],
      "source": [
        "find_best_parameters(SVDpp,param_grid, trainset, data)"
      ]
    },
    {
      "cell_type": "markdown",
      "id": "a32e9115",
      "metadata": {
        "id": "a32e9115"
      },
      "source": [
        "#### NMF"
      ]
    },
    {
      "cell_type": "code",
      "execution_count": 22,
      "id": "4e236b10",
      "metadata": {
        "id": "4e236b10"
      },
      "outputs": [],
      "source": [
        "def find_best_parameters_nmf(model_class, param_grid, trainset, data):\n",
        "    grid_search = GridSearchCV(model_class, param_grid, measures=['rmse', 'mae'], cv=3)\n",
        "    grid_search.fit(data)\n",
        "\n",
        "    print(grid_search.best_params['rmse'])\n",
        "    print(grid_search.best_params['mae'])\n",
        "\n",
        "    best_params = grid_search.best_params['rmse']\n",
        "    best_model = model_class(\n",
        "                             n_epochs=best_params['n_epochs'],\n",
        "\n",
        "                             reg_pu=best_params['reg_pu'],\n",
        "                             reg_qi=best_params['reg_qi'],\n",
        "                             lr_bu=best_params['lr_bu'],\n",
        "                             lr_bi=best_params['lr_bi'])\n",
        "    best_model.fit(trainset)\n",
        "\n",
        "    predictions = best_model.test(testset)\n",
        "    rmse = accuracy.rmse(predictions)\n",
        "    mae = accuracy.mae(predictions)\n",
        "    print(f'MAE on test set: {mae}')\n",
        "    print(f'RMSE on test set: {rmse}')"
      ]
    },
    {
      "cell_type": "code",
      "execution_count": 23,
      "id": "60627f26",
      "metadata": {
        "colab": {
          "base_uri": "https://localhost:8080/"
        },
        "id": "60627f26",
        "outputId": "5662a9e8-2fc8-48ea-f0cc-3ae5cff5970e"
      },
      "outputs": [
        {
          "output_type": "stream",
          "name": "stdout",
          "text": [
            "{'n_epochs': 10, 'reg_pu': 0.06, 'reg_qi': 0.06, 'lr_bu': 0.005, 'lr_bi': 0.002}\n",
            "{'n_epochs': 10, 'reg_pu': 0.06, 'reg_qi': 0.06, 'lr_bu': 0.002, 'lr_bi': 0.002}\n",
            "RMSE: 0.9988\n",
            "MAE:  0.7722\n",
            "MAE on test set: 0.7721609867756112\n",
            "RMSE on test set: 0.998825153587508\n"
          ]
        }
      ],
      "source": [
        "param_grid_nmf = {\n",
        "              'n_epochs': [5, 10, 15],\n",
        "\n",
        "              'reg_pu': [0.02, 0.04, 0.06],\n",
        "              'reg_qi': [0.02, 0.04, 0.06],\n",
        "              'lr_bu': [0.002, 0.005, 0.01],\n",
        "              'lr_bi': [0.002, 0.005, 0.01]}\n",
        "find_best_parameters_nmf(NMF,param_grid_nmf, trainset, data)\n",
        "#'biased': [True, False],"
      ]
    },
    {
      "cell_type": "markdown",
      "id": "328ffbc1",
      "metadata": {
        "id": "328ffbc1"
      },
      "source": [
        "### Analysis results of SVD, SVD++, NMF"
      ]
    },
    {
      "cell_type": "code",
      "execution_count": 24,
      "id": "a92eea45",
      "metadata": {
        "colab": {
          "base_uri": "https://localhost:8080/",
          "height": 597
        },
        "id": "a92eea45",
        "outputId": "a951f048-ba9d-4093-eb57-af28af63572c"
      },
      "outputs": [
        {
          "output_type": "display_data",
          "data": {
            "text/plain": [
              "<Figure size 1000x600 with 1 Axes>"
            ],
            "image/png": "[encoded data removed]"
          },
          "metadata": {}
        }
      ],
      "source": [
        "models = ['SVD', 'SVD++', 'NMF']\n",
        "rmse_scores = [0.9587176681657164, 0.9587176681657164, 0.998825153587508]\n",
        "\n",
        "plt.figure(figsize=(10, 6))\n",
        "plt.bar(models, rmse_scores, color='skyblue')\n",
        "plt.xlabel('Models')\n",
        "plt.ylabel('RMSE')\n",
        "plt.title('Comparison of RMSE for Different Models')\n",
        "plt.ylim(min(rmse_scores) - 0.1, max(rmse_scores) + 0.1)\n",
        "plt.xticks(rotation=45)\n",
        "plt.show()"
      ]
    },
    {
      "cell_type": "code",
      "execution_count": 25,
      "id": "c3a57337",
      "metadata": {
        "colab": {
          "base_uri": "https://localhost:8080/",
          "height": 597
        },
        "id": "c3a57337",
        "outputId": "ac04e128-30db-4eec-d201-4e32176eee5a"
      },
      "outputs": [
        {
          "output_type": "display_data",
          "data": {
            "text/plain": [
              "<Figure size 1000x600 with 1 Axes>"
            ],
            "image/png": "[encoded data removed]"
          },
          "metadata": {}
        }
      ],
      "source": [
        "models = ['SVD', 'SVD++', 'NMF']\n",
        "mae_scores = [0.7667393551731647, 0.7667393551731647, 0.7721609867756112]\n",
        "\n",
        "plt.figure(figsize=(10, 6))\n",
        "plt.bar(models, mae_scores, color='green')\n",
        "plt.xlabel('Models')\n",
        "plt.ylabel('MAE')\n",
        "plt.title('Comparison of MAE for Different Models')\n",
        "plt.ylim(min(mae_scores) - 0.1, max(mae_scores) + 0.1)\n",
        "plt.xticks(rotation=45)\n",
        "plt.show()"
      ]
    }
  ],
  "metadata": {
    "kernelspec": {
      "display_name": "Python 3 (ipykernel)",
      "language": "python",
      "name": "python3"
    },
    "language_info": {
      "codemirror_mode": {
        "name": "ipython",
        "version": 3
      },
      "file_extension": ".py",
      "mimetype": "text/x-python",
      "name": "python",
      "nbconvert_exporter": "python",
      "pygments_lexer": "ipython3",
      "version": "3.11.5"
    },
    "colab": {
      "provenance": []
    }
  },
  "nbformat": 4,
  "nbformat_minor": 5
}