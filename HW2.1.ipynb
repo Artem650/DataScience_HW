{
  "nbformat": 4,
  "nbformat_minor": 0,
  "metadata": {
    "colab": {
      "provenance": []
    },
    "kernelspec": {
      "name": "python3",
      "display_name": "Python 3"
    },
    "language_info": {
      "name": "python"
    }
  },
  "cells": [
    {
      "cell_type": "code",
      "execution_count": null,
      "metadata": {
        "id": "_q0CWaYBaj1e"
      },
      "outputs": [],
      "source": [
        "Частина перша: Знайомство з Pandas.\n",
        "Прочитайте дані за допомогою методу read_html з таблиці \"Коефіцієнт народжуваності в регіонах України (1950—2019)\" посилання\n",
        "\n",
        "Необхідно нико на:\n",
        "\n",
        "Вивести перші рядки таблиці за допомогою мет\n",
        "оду head Визначте кількість рядків та стовпців у датафреймі (атриб\n",
        "т shape) Замініть у таблиці значення \"—\" на зн\n",
        "чення NaN Визначте типи всіх стовпців за допомогою dataf\n",
        "ame.dtypes Замініть типи нечислових колонок на числові. Підказка - це колонки, де знаходивс\n",
        "символ \"—\" Порахуйте, яка частка пропусків міститься в кожній колонці (використовуйте методи i\n",
        "null та sum) Видаліть з таблиці дані по всій країні, останній\n",
        "рядок таблиці Замініть відсутні дані в стовпцях середніми значеннями цих стовпців\n",
        "(метод fillna) Отримайте список регіонів, де рівень народжуваності у 2019 році був вищим за сер\n",
        "дній по Україні У якому регіоні була найвища народжуван\n",
        "сть у 2014 році? Побудуйте стовпчикову діаграму народжуваності по ре\n",
        "онах у 2019 році\n",
        "\n",
        "Робота здається у вигляді Jupy\n",
        "ter файлу Hw2.1.ipynb\n",
        "Імпортуємо всі необхідні бібліотеки"
      ]
    },
    {
      "cell_type": "code",
      "source": [
        "import requests\n",
        "import pandas as pd\n",
        "import matplotlib.pyplot as plt\n",
        "from io import StringIO\n",
        "import os\n",
        "\n",
        "os.environ['PYTHONIOENCODING'] = 'UTF-8'\n",
        "\n",
        "url = \"https://uk.wikipedia.org/wiki/Населення_України\"\n",
        "try:\n",
        "    # Try to read HTML tables from the URL\n",
        "    response = requests.get(url)\n",
        "    # Check if the request was successful\n",
        "    if response.status_code == 200:\n",
        "        # Decode the content using UTF-8 encoding\n",
        "        html_content = response.content.decode('utf-8')\n",
        "        html_file = StringIO(html_content)\n",
        "        # Read HTML tables from the decoded content\n",
        "        tables = pd.read_html(html_file, match=\"Коефіцієнт народжуваності\")\n",
        "\n",
        "    if tables:\n",
        "        #print(tables)\n",
        "        df = tables[0]\n",
        "        print(\"All tables\\n\", df)\n",
        "        print(\"\\nThe first 5 lines:\\n\", df.head(5)) # Find the first 5 lines\n",
        "    else:\n",
        "        print(\"No tables found on the page.\")\n",
        "\n",
        "except Exception as e:\n",
        "    print(\"Error:\", e)"
      ],
      "metadata": {
        "colab": {
          "base_uri": "https://localhost:8080/"
        },
        "id": "YkNyJblA-60h",
        "outputId": "252611e0-db87-4057-c23a-4a38a6db0279"
      },
      "execution_count": null,
      "outputs": [
        {
          "output_type": "stream",
          "name": "stdout",
          "text": [
            "All tables\n",
            "                Регіон   1950   1960   1970  1990  2000  2012 2014 2019\n",
            "0                Крим  230.0  206.0  160.0   130    73   126    —    —\n",
            "1           Вінницька  224.0  192.0  142.0   124    84   112  109   76\n",
            "2           Волинська  247.0  250.0  179.0   153   112   148  141  101\n",
            "3    Дніпропетровська  204.0  204.0  151.0   123    71   112  111   71\n",
            "4            Донецька  271.0  214.0  140.0   109    61    98   82    —\n",
            "5         Житомирська  261.0  223.0  159.0   129    89   122  120   79\n",
            "6        Закарпатська  314.0  273.0  207.0   168   115   151  146  104\n",
            "7          Запорізька  219.0  197.0  150.0   124    71   106  106   68\n",
            "8   Івано-Франківська  243.0  248.0  182.0   155   103   124  122   88\n",
            "9            Київська  204.0  189.0  156.0   123    73   122  121   80\n",
            "10     Кіровоградська  216.0  171.0  145.0   126    79   110  108   68\n",
            "11          Луганська  262.0  235.0  144.0   116    62    96   51    —\n",
            "12          Львівська  234.0  240.0  171.0   140    91   119  119   87\n",
            "13       Миколаївська  211.0  194.0  155.0   137    80   115  112   71\n",
            "14            Одеська  241.0  192.0  148.0   126    80   127  123   88\n",
            "15         Полтавська  186.0  163.0  131.0   118    70    99  100   65\n",
            "16         Рівненська  269.0  267.0  193.0   158   118   159  148  107\n",
            "17            Сумська  216.0  184.0  132.0   115    70    97   92   60\n",
            "18      Тернопільська  213.0  216.0  157.0   142    92   113  109   76\n",
            "19         Харківська  197.0  173.0  140.0   114    68    99  101   68\n",
            "20         Херсонська  208.0  214.0  166.0   143    85   117  115   81\n",
            "21        Хмельницька  234.0  198.0  148.0   129    85   113  112   79\n",
            "22          Черкаська  205.0  179.0  144.0   123    75   100   98   64\n",
            "23        Чернівецька  247.0  218.0  170.0   148   101   128  129   92\n",
            "24       Чернігівська  220.0  183.0  127.0   108    69    94   90   61\n",
            "25               Київ    NaN  174.0  159.0   120    73   120  121  110\n",
            "26        Севастополь    NaN    NaN    NaN   125    70   120    —    —\n",
            "27            Україна  228.0  205.0  152.0   126    78   114  111   81\n",
            "\n",
            "The first 5 lines:\n",
            "              Регіон   1950   1960   1970  1990  2000  2012 2014 2019\n",
            "0              Крим  230.0  206.0  160.0   130    73   126    —    —\n",
            "1         Вінницька  224.0  192.0  142.0   124    84   112  109   76\n",
            "2         Волинська  247.0  250.0  179.0   153   112   148  141  101\n",
            "3  Дніпропетровська  204.0  204.0  151.0   123    71   112  111   71\n",
            "4          Донецька  271.0  214.0  140.0   109    61    98   82    —\n"
          ]
        }
      ]
    },
    {
      "cell_type": "markdown",
      "source": [
        "**Визначте кількість рядків та стовпців у датафреймі (атрибут shape)**"
      ],
      "metadata": {
        "id": "AQBYVYGdACkg"
      }
    },
    {
      "cell_type": "code",
      "source": [
        "print(\"Загальна кількість рядків і стовпців:\", (df.shape) )"
      ],
      "metadata": {
        "colab": {
          "base_uri": "https://localhost:8080/"
        },
        "id": "Q48pq38sADs1",
        "outputId": "6affff0f-5077-4571-b7f2-13612d051c82"
      },
      "execution_count": null,
      "outputs": [
        {
          "output_type": "stream",
          "name": "stdout",
          "text": [
            "Загальна кількість рядків і стовпців: (28, 9)\n"
          ]
        }
      ]
    },
    {
      "cell_type": "markdown",
      "source": [
        "**Замініть у таблиці значення \"—\" на значення NaN**"
      ],
      "metadata": {
        "id": "kBlPonU_AJ2p"
      }
    },
    {
      "cell_type": "code",
      "source": [
        "df.replace(\"—\", float(\"NaN\"), inplace=True)\n",
        "print(df)"
      ],
      "metadata": {
        "colab": {
          "base_uri": "https://localhost:8080/"
        },
        "id": "cQvdA-QEAKxZ",
        "outputId": "2350b40c-9c44-4183-8dd5-cd1813a67cfe"
      },
      "execution_count": null,
      "outputs": [
        {
          "output_type": "stream",
          "name": "stdout",
          "text": [
            "               Регіон   1950   1960   1970  1990  2000  2012 2014 2019\n",
            "0                Крим  230.0  206.0  160.0   130    73   126  NaN  NaN\n",
            "1           Вінницька  224.0  192.0  142.0   124    84   112  109   76\n",
            "2           Волинська  247.0  250.0  179.0   153   112   148  141  101\n",
            "3    Дніпропетровська  204.0  204.0  151.0   123    71   112  111   71\n",
            "4            Донецька  271.0  214.0  140.0   109    61    98   82  NaN\n",
            "5         Житомирська  261.0  223.0  159.0   129    89   122  120   79\n",
            "6        Закарпатська  314.0  273.0  207.0   168   115   151  146  104\n",
            "7          Запорізька  219.0  197.0  150.0   124    71   106  106   68\n",
            "8   Івано-Франківська  243.0  248.0  182.0   155   103   124  122   88\n",
            "9            Київська  204.0  189.0  156.0   123    73   122  121   80\n",
            "10     Кіровоградська  216.0  171.0  145.0   126    79   110  108   68\n",
            "11          Луганська  262.0  235.0  144.0   116    62    96   51  NaN\n",
            "12          Львівська  234.0  240.0  171.0   140    91   119  119   87\n",
            "13       Миколаївська  211.0  194.0  155.0   137    80   115  112   71\n",
            "14            Одеська  241.0  192.0  148.0   126    80   127  123   88\n",
            "15         Полтавська  186.0  163.0  131.0   118    70    99  100   65\n",
            "16         Рівненська  269.0  267.0  193.0   158   118   159  148  107\n",
            "17            Сумська  216.0  184.0  132.0   115    70    97   92   60\n",
            "18      Тернопільська  213.0  216.0  157.0   142    92   113  109   76\n",
            "19         Харківська  197.0  173.0  140.0   114    68    99  101   68\n",
            "20         Херсонська  208.0  214.0  166.0   143    85   117  115   81\n",
            "21        Хмельницька  234.0  198.0  148.0   129    85   113  112   79\n",
            "22          Черкаська  205.0  179.0  144.0   123    75   100   98   64\n",
            "23        Чернівецька  247.0  218.0  170.0   148   101   128  129   92\n",
            "24       Чернігівська  220.0  183.0  127.0   108    69    94   90   61\n",
            "25               Київ    NaN  174.0  159.0   120    73   120  121  110\n",
            "26        Севастополь    NaN    NaN    NaN   125    70   120  NaN  NaN\n",
            "27            Україна  228.0  205.0  152.0   126    78   114  111   81\n"
          ]
        }
      ]
    },
    {
      "cell_type": "markdown",
      "source": [
        "**Визначте типи всіх стовпців за допомогою dataframe.dtypes. Замініть типи нечислових колонок на числові. Підказка - це колонки 2014 та 2019.**"
      ],
      "metadata": {
        "id": "qONkmtcwASbn"
      }
    },
    {
      "cell_type": "code",
      "source": [
        "df['2014'] = pd.to_numeric(df['2014'], errors='coerce')\n",
        "df['2019'] = pd.to_numeric(df['2019'], errors='coerce')\n",
        "print(df.dtypes)\n",
        "print(df)"
      ],
      "metadata": {
        "colab": {
          "base_uri": "https://localhost:8080/"
        },
        "id": "xkAEzSqkATmP",
        "outputId": "9f0b4ed7-2b29-4f87-83cd-bf6fccb6382c"
      },
      "execution_count": null,
      "outputs": [
        {
          "output_type": "stream",
          "name": "stdout",
          "text": [
            "Регіон     object\n",
            "1950      float64\n",
            "1960      float64\n",
            "1970      float64\n",
            "1990        int64\n",
            "2000        int64\n",
            "2012        int64\n",
            "2014      float64\n",
            "2019      float64\n",
            "dtype: object\n",
            "               Регіон   1950   1960   1970  1990  2000  2012   2014   2019\n",
            "0                Крим  230.0  206.0  160.0   130    73   126    NaN    NaN\n",
            "1           Вінницька  224.0  192.0  142.0   124    84   112  109.0   76.0\n",
            "2           Волинська  247.0  250.0  179.0   153   112   148  141.0  101.0\n",
            "3    Дніпропетровська  204.0  204.0  151.0   123    71   112  111.0   71.0\n",
            "4            Донецька  271.0  214.0  140.0   109    61    98   82.0    NaN\n",
            "5         Житомирська  261.0  223.0  159.0   129    89   122  120.0   79.0\n",
            "6        Закарпатська  314.0  273.0  207.0   168   115   151  146.0  104.0\n",
            "7          Запорізька  219.0  197.0  150.0   124    71   106  106.0   68.0\n",
            "8   Івано-Франківська  243.0  248.0  182.0   155   103   124  122.0   88.0\n",
            "9            Київська  204.0  189.0  156.0   123    73   122  121.0   80.0\n",
            "10     Кіровоградська  216.0  171.0  145.0   126    79   110  108.0   68.0\n",
            "11          Луганська  262.0  235.0  144.0   116    62    96   51.0    NaN\n",
            "12          Львівська  234.0  240.0  171.0   140    91   119  119.0   87.0\n",
            "13       Миколаївська  211.0  194.0  155.0   137    80   115  112.0   71.0\n",
            "14            Одеська  241.0  192.0  148.0   126    80   127  123.0   88.0\n",
            "15         Полтавська  186.0  163.0  131.0   118    70    99  100.0   65.0\n",
            "16         Рівненська  269.0  267.0  193.0   158   118   159  148.0  107.0\n",
            "17            Сумська  216.0  184.0  132.0   115    70    97   92.0   60.0\n",
            "18      Тернопільська  213.0  216.0  157.0   142    92   113  109.0   76.0\n",
            "19         Харківська  197.0  173.0  140.0   114    68    99  101.0   68.0\n",
            "20         Херсонська  208.0  214.0  166.0   143    85   117  115.0   81.0\n",
            "21        Хмельницька  234.0  198.0  148.0   129    85   113  112.0   79.0\n",
            "22          Черкаська  205.0  179.0  144.0   123    75   100   98.0   64.0\n",
            "23        Чернівецька  247.0  218.0  170.0   148   101   128  129.0   92.0\n",
            "24       Чернігівська  220.0  183.0  127.0   108    69    94   90.0   61.0\n",
            "25               Київ    NaN  174.0  159.0   120    73   120  121.0  110.0\n",
            "26        Севастополь    NaN    NaN    NaN   125    70   120    NaN    NaN\n",
            "27            Україна  228.0  205.0  152.0   126    78   114  111.0   81.0\n"
          ]
        }
      ]
    },
    {
      "cell_type": "markdown",
      "source": [
        "**Порахуйте, яка частка пропусків міститься в кожній колонці (використовуйте методи isnull та sum)**"
      ],
      "metadata": {
        "id": "cPG1OvCVAY0H"
      }
    },
    {
      "cell_type": "code",
      "source": [
        "missing_values = df.isnull().sum()\n",
        "print(\"Missing values:\\n\", missing_values)\n",
        "\n",
        "missing_values_proportion = missing_values / df.shape[0]\n",
        "print(\"\\n\",missing_values_proportion)"
      ],
      "metadata": {
        "colab": {
          "base_uri": "https://localhost:8080/"
        },
        "id": "1c6BmL1-AZg5",
        "outputId": "ec6e5d00-2dee-41aa-a491-1cb88899dae9"
      },
      "execution_count": null,
      "outputs": [
        {
          "output_type": "stream",
          "name": "stdout",
          "text": [
            "Missing values:\n",
            " Регіон    0\n",
            "1950      2\n",
            "1960      1\n",
            "1970      1\n",
            "1990      0\n",
            "2000      0\n",
            "2012      0\n",
            "2014      2\n",
            "2019      4\n",
            "dtype: int64\n",
            "\n",
            " Регіон    0.000000\n",
            "1950      0.071429\n",
            "1960      0.035714\n",
            "1970      0.035714\n",
            "1990      0.000000\n",
            "2000      0.000000\n",
            "2012      0.000000\n",
            "2014      0.071429\n",
            "2019      0.142857\n",
            "dtype: float64\n"
          ]
        }
      ]
    },
    {
      "cell_type": "markdown",
      "source": [
        "**Видаліть з таблиці дані по всій країні, останній рядок таблиці**"
      ],
      "metadata": {
        "id": "-ECw-yJJAfJn"
      }
    },
    {
      "cell_type": "code",
      "source": [
        "df.drop(index=df.index[-1],axis=0,inplace=True)\n",
        "print(df)"
      ],
      "metadata": {
        "colab": {
          "base_uri": "https://localhost:8080/"
        },
        "id": "two4VnPQAgAy",
        "outputId": "db87db9d-ab31-4143-eb29-c3bfdd676804"
      },
      "execution_count": null,
      "outputs": [
        {
          "output_type": "stream",
          "name": "stdout",
          "text": [
            "               Регіон   1950   1960   1970  1990  2000  2012   2014   2019\n",
            "0                Крим  230.0  206.0  160.0   130    73   126    NaN    NaN\n",
            "1           Вінницька  224.0  192.0  142.0   124    84   112  109.0   76.0\n",
            "2           Волинська  247.0  250.0  179.0   153   112   148  141.0  101.0\n",
            "3    Дніпропетровська  204.0  204.0  151.0   123    71   112  111.0   71.0\n",
            "4            Донецька  271.0  214.0  140.0   109    61    98   82.0    NaN\n",
            "5         Житомирська  261.0  223.0  159.0   129    89   122  120.0   79.0\n",
            "6        Закарпатська  314.0  273.0  207.0   168   115   151  146.0  104.0\n",
            "7          Запорізька  219.0  197.0  150.0   124    71   106  106.0   68.0\n",
            "8   Івано-Франківська  243.0  248.0  182.0   155   103   124  122.0   88.0\n",
            "9            Київська  204.0  189.0  156.0   123    73   122  121.0   80.0\n",
            "10     Кіровоградська  216.0  171.0  145.0   126    79   110  108.0   68.0\n",
            "11          Луганська  262.0  235.0  144.0   116    62    96   51.0    NaN\n",
            "12          Львівська  234.0  240.0  171.0   140    91   119  119.0   87.0\n",
            "13       Миколаївська  211.0  194.0  155.0   137    80   115  112.0   71.0\n",
            "14            Одеська  241.0  192.0  148.0   126    80   127  123.0   88.0\n",
            "15         Полтавська  186.0  163.0  131.0   118    70    99  100.0   65.0\n",
            "16         Рівненська  269.0  267.0  193.0   158   118   159  148.0  107.0\n",
            "17            Сумська  216.0  184.0  132.0   115    70    97   92.0   60.0\n",
            "18      Тернопільська  213.0  216.0  157.0   142    92   113  109.0   76.0\n",
            "19         Харківська  197.0  173.0  140.0   114    68    99  101.0   68.0\n",
            "20         Херсонська  208.0  214.0  166.0   143    85   117  115.0   81.0\n",
            "21        Хмельницька  234.0  198.0  148.0   129    85   113  112.0   79.0\n",
            "22          Черкаська  205.0  179.0  144.0   123    75   100   98.0   64.0\n",
            "23        Чернівецька  247.0  218.0  170.0   148   101   128  129.0   92.0\n",
            "24       Чернігівська  220.0  183.0  127.0   108    69    94   90.0   61.0\n",
            "25               Київ    NaN  174.0  159.0   120    73   120  121.0  110.0\n",
            "26        Севастополь    NaN    NaN    NaN   125    70   120    NaN    NaN\n"
          ]
        }
      ]
    },
    {
      "cell_type": "markdown",
      "source": [
        "**Замініть відсутні дані в стовпцях середніми значеннями цих стовпців (метод fillna)**"
      ],
      "metadata": {
        "id": "jjWKwGNTApzZ"
      }
    },
    {
      "cell_type": "code",
      "source": [
        "pd.set_option('display.float_format', '{:.2f}'.format) # use for .2f format\n",
        "column_means = df.iloc[:, 1:].mean()\n",
        "df = df.fillna(column_means)\n",
        "print(df)"
      ],
      "metadata": {
        "colab": {
          "base_uri": "https://localhost:8080/"
        },
        "id": "LSimQxD3AqkW",
        "outputId": "2a0c0506-704a-4b3d-ca45-4083e9cd7393"
      },
      "execution_count": null,
      "outputs": [
        {
          "output_type": "stream",
          "name": "stdout",
          "text": [
            "               Регіон   1950   1960   1970  1990  2000  2012   2014   2019\n",
            "0                Крим 230.00 206.00 160.00   130    73   126 111.44  80.17\n",
            "1           Вінницька 224.00 192.00 142.00   124    84   112 109.00  76.00\n",
            "2           Волинська 247.00 250.00 179.00   153   112   148 141.00 101.00\n",
            "3    Дніпропетровська 204.00 204.00 151.00   123    71   112 111.00  71.00\n",
            "4            Донецька 271.00 214.00 140.00   109    61    98  82.00  80.17\n",
            "5         Житомирська 261.00 223.00 159.00   129    89   122 120.00  79.00\n",
            "6        Закарпатська 314.00 273.00 207.00   168   115   151 146.00 104.00\n",
            "7          Запорізька 219.00 197.00 150.00   124    71   106 106.00  68.00\n",
            "8   Івано-Франківська 243.00 248.00 182.00   155   103   124 122.00  88.00\n",
            "9            Київська 204.00 189.00 156.00   123    73   122 121.00  80.00\n",
            "10     Кіровоградська 216.00 171.00 145.00   126    79   110 108.00  68.00\n",
            "11          Луганська 262.00 235.00 144.00   116    62    96  51.00  80.17\n",
            "12          Львівська 234.00 240.00 171.00   140    91   119 119.00  87.00\n",
            "13       Миколаївська 211.00 194.00 155.00   137    80   115 112.00  71.00\n",
            "14            Одеська 241.00 192.00 148.00   126    80   127 123.00  88.00\n",
            "15         Полтавська 186.00 163.00 131.00   118    70    99 100.00  65.00\n",
            "16         Рівненська 269.00 267.00 193.00   158   118   159 148.00 107.00\n",
            "17            Сумська 216.00 184.00 132.00   115    70    97  92.00  60.00\n",
            "18      Тернопільська 213.00 216.00 157.00   142    92   113 109.00  76.00\n",
            "19         Харківська 197.00 173.00 140.00   114    68    99 101.00  68.00\n",
            "20         Херсонська 208.00 214.00 166.00   143    85   117 115.00  81.00\n",
            "21        Хмельницька 234.00 198.00 148.00   129    85   113 112.00  79.00\n",
            "22          Черкаська 205.00 179.00 144.00   123    75   100  98.00  64.00\n",
            "23        Чернівецька 247.00 218.00 170.00   148   101   128 129.00  92.00\n",
            "24       Чернігівська 220.00 183.00 127.00   108    69    94  90.00  61.00\n",
            "25               Київ 231.04 174.00 159.00   120    73   120 121.00 110.00\n",
            "26        Севастополь 231.04 207.58 156.00   125    70   120 111.44  80.17\n"
          ]
        }
      ]
    },
    {
      "cell_type": "markdown",
      "source": [
        "**Отримайте список регіонів, де рівень народжуваності у 2019 році був вищим за середній по Україні**"
      ],
      "metadata": {
        "id": "qwYLj3fxAvbm"
      }
    },
    {
      "cell_type": "code",
      "source": [
        "average_birth_rate = df[\"2019\"].mean()\n",
        "print(average_birth_rate)\n",
        "above_average_regions = df[(df[\"2019\"]) > average_birth_rate]\n",
        "\n",
        "# Print the list of regions\n",
        "print(above_average_regions[\"Регіон\"])"
      ],
      "metadata": {
        "colab": {
          "base_uri": "https://localhost:8080/"
        },
        "id": "hCMZTfk0AwHS",
        "outputId": "a0fdcef9-bcc4-4937-fd29-a32d2917aa5d"
      },
      "execution_count": null,
      "outputs": [
        {
          "output_type": "stream",
          "name": "stdout",
          "text": [
            "80.17391304347828\n",
            "2             Волинська\n",
            "6          Закарпатська\n",
            "8     Івано-Франківська\n",
            "12            Львівська\n",
            "14              Одеська\n",
            "16           Рівненська\n",
            "20           Херсонська\n",
            "23          Чернівецька\n",
            "25                 Київ\n",
            "Name: Регіон, dtype: object\n"
          ]
        }
      ]
    },
    {
      "cell_type": "markdown",
      "source": [
        "**У якому регіоні була найвища народжуваність у 2014 році?**"
      ],
      "metadata": {
        "id": "KIl0GhbdA2Fx"
      }
    },
    {
      "cell_type": "code",
      "source": [
        "highest_birth_rate_index = df[\"2014\"].idxmax()\n",
        "highest_birth_rate_region = df.loc[highest_birth_rate_index, \"Регіон\"]\n",
        "print(\"Region:\", highest_birth_rate_region)"
      ],
      "metadata": {
        "colab": {
          "base_uri": "https://localhost:8080/"
        },
        "id": "pf1tXZDoA2rD",
        "outputId": "0af36654-2bb9-466e-ce99-e7f0ba9b5b00"
      },
      "execution_count": null,
      "outputs": [
        {
          "output_type": "stream",
          "name": "stdout",
          "text": [
            "Region: Рівненська\n"
          ]
        }
      ]
    },
    {
      "cell_type": "markdown",
      "source": [
        "**Побудуйте стовпчикову діаграму народжуваності по регіонах у 2019 році**"
      ],
      "metadata": {
        "id": "ozEoAqTPA5hm"
      }
    },
    {
      "cell_type": "code",
      "source": [
        "# Plotting the bar chart\n",
        "plt.figure(figsize=(10, 6))\n",
        "plt.bar(df[\"Регіон\"], df[\"2019\"], color='skyblue')\n",
        "# Add labels and title\n",
        "plt.xlabel('Region')\n",
        "plt.ylabel('Birth Rate')\n",
        "plt.title('Birth Rate by Region in 2019')\n",
        "\n",
        "# Rotating x-axis labels for better readability\n",
        "plt.xticks(rotation=90)\n",
        "\n",
        "# Display the plot\n",
        "plt.tight_layout()\n",
        "plt.show()"
      ],
      "metadata": {
        "colab": {
          "base_uri": "https://localhost:8080/",
          "height": 607
        },
        "id": "IkSgmXXXA78z",
        "outputId": "37b165de-5800-4168-ccc0-f9963efe5293"
      },
      "execution_count": null,
      "outputs": [
        {
          "output_type": "display_data",
          "data": {
            "text/plain": [
              "<Figure size 1000x600 with 1 Axes>"
            ],
            "image/png": "[encoded data removed]"
          },
          "metadata": {}
        }
      ]
    }
  ]
}