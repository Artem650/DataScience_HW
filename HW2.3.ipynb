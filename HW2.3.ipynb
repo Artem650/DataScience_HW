{
  "nbformat": 4,
  "nbformat_minor": 0,
  "metadata": {
    "colab": {
      "provenance": []
    },
    "kernelspec": {
      "name": "python3",
      "display_name": "Python 3"
    },
    "language_info": {
      "name": "python"
    }
  },
  "cells": [
    {
      "cell_type": "markdown",
      "source": [
        "**Частина третя: Аналіз датасет c Kaggle.com**\n",
        "\n",
        "\n",
        "У цій частині домашньої роботи ми ще більше заглибимося в бібліотеку pandas та розглянемо просунутіші функції.\n",
        "\n",
        "Для цієї вправи ми використовуємо дані за Топ-50 рейтингом книг, що найбільше продаються на Amazon за 11 років (з 2009 по 2019). Датасет знаходиться у відкритому доступі на Kaggle.com. Завантажте файл csv за посиланням і перемістіть його в ту саму директорію, де знаходиться ваш робочий ноутбук (для зручності). Після цього переходьте до завдання\n",
        "\n",
        "Для виконання цієї частини домашнього завдання потрібно буде не тільки написати код, а й відповісти на супутні запитання. Там, де ви побачите виділений жирним шрифтом напис відповідь: потрібно буде вставити питання у файл і відповідь на нього.\n",
        "\n",
        "Наприклад:\n",
        "\n",
        "Яка бібліотека використовується для роботи з датафреймами у python? Відповідь: pandas\n",
        "\n",
        "Необхідно виконати:\n",
        "\n",
        "Прочитайте csv файл (використовуйте функцію read_csv) Виведіть перші п'ять рядків (використовується функція head) Виведіть розміри датасету (використовуйте атрибут shape) Відповідь: Про скільки книг зберігає дані датасет?\n",
        "\n",
        "Для кожної з книг доступні 7 змінних (колонок). Давайте розглянемо їх детальніше:\n",
        "\n",
        "Name - назва книги\n",
        "\n",
        "Author - автор\n",
        "\n",
        "User Rating - рейтинг (за 5-бальною шкалою)\n",
        "\n",
        "Reviews - кількість відгуків\n",
        "\n",
        "Price - ціна (у доларах станом на 2020 рік)\n",
        "\n",
        "Year - рік, коли книга потрапила до рейтингу Топ-50\n",
        "\n",
        "Genre - жанр\n",
        "\n",
        "Для спрощення подальшої роботи давайте трохи підправимо назви змінних. Як бачите, тут усі назви починаються з великої літери, а одна - навіть містить пробіл. Це дуже небажано і може бути досить незручним. Давайте змінимо регістр на малий, а пробіл замінимо на нижнє підкреслення (snake_style). А заразом і вивчимо корисний атрибут датафрейму: columns (можна просто присвоїти список нових імен цьому атрибуту)\n",
        "\n",
        "df.columns = ['name', 'author', 'user_rating', 'reviews', 'price', 'year', 'genre']\n",
        "\n",
        "**Первинне дослідження даних**\n",
        "\n",
        "Перевірте, чи у всіх рядків вистачає даних: виведіть кількість пропусків (na) у кожному зі стовпців (використовуйте функції isna та sum) Відповідь: Чи є в якихось змінних пропуски? (Так / ні) Перевірте, які є унікальні значення в колонці genre (використовуйте функцію unique) Відповідь: Які є унікальні жанри? Тепер подивіться на розподіл цін: побудуйте діаграму (використовуйте kind='hist') Визначте, яка ціна у нас максимальна, мінімальна, середня, медіанна (використовуйте функції max, min, mean, median) Відповідь: Максимальна ціна? Відповідь: Мінімальна ціна? Відповідь: Середня ціна? Відповідь: Медіанна ціна?\n",
        "\n",
        "Пошук та сортування даних\n",
        "\n",
        "​\n",
        "\n",
        "Відповідь: Який рейтинг у датасеті найвищий? Відповідь: Відповідь: Скільки книг мають такий рейтинг? Відповідь: Відповідь: Яка книга має найбільше відгуків? Відповідь: Відповідь: З тих книг, що потрапили до Топ-50 у 2015 році, яка книга найдорожча (можна використати проміжний датафрейм)? Відповідь: Відповідь: Скільки книг жанру Fiction потрапили до Топ-50 у 2010 році (використовуйте &)? Відповідь: Відповідь: Скільки книг з рейтингом 4.9 потрапило до рейтингу у 2010 та 2011 роках (використовуйте | або функцію isin)? Відповідь: І насамкінець, давайте відсортуємо за зростанням ціни всі книги, які потрапили до рейтингу в 2015 році і коштують дешевше за 8 доларів (використовуйте функцію sort_values). Відповідь: Яка книга остання у відсортованому списку? Відповідь:\n",
        "\n",
        "Агрегування даних та з'єднання таблиць\n",
        "\n",
        "​\n",
        "\n",
        "Остання секція цього домашнього завдання включає просунутіші функції. Але не хвилюйтеся, pandas робить усі операції простими та зрозумілими.\n",
        "\n",
        "Для початку давайте подивимося на максимальну та мінімальну ціни для кожного з жанрів (використовуйте функції groupby та agg, для підрахунку мінімальних та максимальних значень використовуйте max та min). Не беріть усі стовпці, виберіть тільки потрібні вам Відповідь: Максимальна ціна для жанру Fiction: Відповідь Відповідь: Мінімальна ціна для жанру Fiction: Відповідь Відповідь: Максимальна ціна для жанру Non Fiction: Відповідь Відповідь: Мінімальна ціна для жанру Non Fiction: Відповідь Тепер створіть новий датафрейм, який вміщатиме кількість книг для кожного з авторів (використовуйте функції groupby та agg, для підрахунку кількості використовуйте count). Не беріть усі стовпці, виберете тільки потрібні Відповідь: Якої розмірності вийшла таблиця? Відповідь: Відповідь: Який автор має найбільше книг? Відповідь: Відповідь: Скільки книг цього автора? Відповідь: Тепер створіть другий датафрейм, який буде вміщати середній рейтинг для кожного автора (використовуйте функції groupby та agg, для підрахунку середнього значення використовуйте mean). Не беріть усі стовпці, виберете тільки потрібні Відповідь: У якого автора середній рейтинг мінімальний? Відповідь: Відповідь: Який у цього автора середній рейтинг? Відповідь: З'єднайте останні два датафрейми так, щоб для кожного автора було видно кількість книг та середній рейтинг (Використовуйте функцію concat з параметром axis=1). Збережіть результат у змінну Відсортуйте датафрейм за зростаючою кількістю книг та зростаючим рейтингом (використовуйте функцію sort_values) Відповідь: Який автор перший у списку?\n",
        "\n",
        "Робота здається у вигляді Jupyter файлу Hw2.3.ipynb\n",
        "\n",
        "Візуалізація\n",
        "\n",
        "​\n",
        "\n",
        "Для кожного з попередніх завдань:\n",
        "\n",
        "Hw2.1.ipynb Hw2.2.ipynb Hw2.3.ipynb\n",
        "\n",
        "додайте від 3 до 5 графіків функцій різного типу на ваш вибір. Задайте графікам оформлення, щоб кожен графік у своїй домашній роботі чимось відрізнявся і не був схожим на інші. Можна використовувати як matplotlib, так і seaborn.\n",
        "\n",
        "Не забудьте в Jupyter файл додати директиву %matplotlib inline, щоб графіки будувалися всередині документа.\n",
        "\n",
        "Дз повинно бути виконано у Jupyter Nootebook,(або Google Colab) і задеплоїне на Гітхаб у вигляді файлу .ipynb\n",
        "\n",
        "Імпортуємо бібліотеки"
      ],
      "metadata": {
        "id": "Wlv3hCtVb3pF"
      }
    },
    {
      "cell_type": "code",
      "source": [
        "import pandas as pd\n",
        "import re\n",
        "import matplotlib.pyplot as plt"
      ],
      "metadata": {
        "id": "8NIluJPZb7Zu"
      },
      "execution_count": 1,
      "outputs": []
    },
    {
      "cell_type": "markdown",
      "source": [
        "**Прочитайте csv файл (використовуйте функцію read_csv) Виведіть перші п'ять рядків (використовується функція head)**"
      ],
      "metadata": {
        "id": "kxno_5RUcEXb"
      }
    },
    {
      "cell_type": "code",
      "source": [
        "df = pd.read_csv(\"bestsellers with categories.csv\")\n",
        "print(df.head())"
      ],
      "metadata": {
        "colab": {
          "base_uri": "https://localhost:8080/"
        },
        "id": "z2zXShehgTJw",
        "outputId": "5499d1d0-aa3c-4681-bd33-adbee0f18a2e"
      },
      "execution_count": 4,
      "outputs": [
        {
          "output_type": "stream",
          "name": "stdout",
          "text": [
            "                                                Name  \\\n",
            "0                      10-Day Green Smoothie Cleanse   \n",
            "1                                  11/22/63: A Novel   \n",
            "2            12 Rules for Life: An Antidote to Chaos   \n",
            "3                             1984 (Signet Classics)   \n",
            "4  5,000 Awesome Facts (About Everything!) (Natio...   \n",
            "\n",
            "                     Author  User Rating  Reviews  Price  Year        Genre  \n",
            "0                  JJ Smith          4.7    17350      8  2016  Non Fiction  \n",
            "1              Stephen King          4.6     2052     22  2011      Fiction  \n",
            "2        Jordan B. Peterson          4.7    18979     15  2018  Non Fiction  \n",
            "3             George Orwell          4.7    21424      6  2017      Fiction  \n",
            "4  National Geographic Kids          4.8     7665     12  2019  Non Fiction  \n"
          ]
        }
      ]
    },
    {
      "cell_type": "markdown",
      "source": [
        "**Виведіть розміри датасету (використовуйте атрибут shape)**"
      ],
      "metadata": {
        "id": "KStivc4Pg8RC"
      }
    },
    {
      "cell_type": "code",
      "source": [
        "print(df.shape)"
      ],
      "metadata": {
        "colab": {
          "base_uri": "https://localhost:8080/"
        },
        "id": "vaj8sIDLg-6B",
        "outputId": "4fa26266-a741-4d3b-93e2-94366cf400cf"
      },
      "execution_count": 5,
      "outputs": [
        {
          "output_type": "stream",
          "name": "stdout",
          "text": [
            "(550, 7)\n"
          ]
        }
      ]
    },
    {
      "cell_type": "markdown",
      "source": [
        "**Шукаємо унікальні назви, так як книга може бути перевидана**"
      ],
      "metadata": {
        "id": "DZyjNww0hBfN"
      }
    },
    {
      "cell_type": "code",
      "source": [
        "print(df.duplicated(subset=['Name']))"
      ],
      "metadata": {
        "colab": {
          "base_uri": "https://localhost:8080/"
        },
        "id": "5Co6J1-ahETY",
        "outputId": "2049fdd6-6555-49eb-a9d7-33bf84a2fdfe"
      },
      "execution_count": 6,
      "outputs": [
        {
          "output_type": "stream",
          "name": "stdout",
          "text": [
            "0      False\n",
            "1      False\n",
            "2      False\n",
            "3      False\n",
            "4      False\n",
            "       ...  \n",
            "545    False\n",
            "546    False\n",
            "547     True\n",
            "548     True\n",
            "549     True\n",
            "Length: 550, dtype: bool\n"
          ]
        }
      ]
    },
    {
      "cell_type": "code",
      "source": [
        "unique_count = df['Name'].nunique()\n",
        "print(\"Number of unique elements:\", unique_count)"
      ],
      "metadata": {
        "colab": {
          "base_uri": "https://localhost:8080/"
        },
        "id": "WO-hg9Y6hJ3W",
        "outputId": "e0e0da4c-4632-4505-946a-71206672d201"
      },
      "execution_count": 7,
      "outputs": [
        {
          "output_type": "stream",
          "name": "stdout",
          "text": [
            "Number of unique elements: 351\n"
          ]
        }
      ]
    },
    {
      "cell_type": "markdown",
      "source": [
        "**Для спрощення подальшої роботи давайте трохи підправимо назви змінних.**"
      ],
      "metadata": {
        "id": "GsY-2kS0hLXP"
      }
    },
    {
      "cell_type": "code",
      "source": [
        "df.columns = ['name', 'author', 'user_rating', 'reviews', 'price', 'year', 'genre']\n",
        "\n",
        "print(df.columns)"
      ],
      "metadata": {
        "colab": {
          "base_uri": "https://localhost:8080/"
        },
        "id": "yuLUFF5thR1i",
        "outputId": "b5f78540-7cf4-4ad7-b637-0412eb0a6509"
      },
      "execution_count": 8,
      "outputs": [
        {
          "output_type": "stream",
          "name": "stdout",
          "text": [
            "Index(['name', 'author', 'user_rating', 'reviews', 'price', 'year', 'genre'], dtype='object')\n"
          ]
        }
      ]
    },
    {
      "cell_type": "markdown",
      "source": [
        "Первинне дослідження даних\n",
        "\n",
        "**Перевірте, чи у всіх рядків вистачає даних: виведіть кількість пропусків (na) у кожному зі стовпців (використовуйте функції isna та sum)**"
      ],
      "metadata": {
        "id": "KEIVJqi-hVDh"
      }
    },
    {
      "cell_type": "code",
      "source": [
        "missing_values = df.isnull().sum()\n",
        "print(\"Missing values:\\n\", missing_values)\n",
        "\n",
        "missing_values_proportion = missing_values / df.shape[0]\n",
        "print(\"\\n\",missing_values_proportion)"
      ],
      "metadata": {
        "colab": {
          "base_uri": "https://localhost:8080/"
        },
        "id": "M_2c-9rQhZC9",
        "outputId": "6dbae786-89fc-4013-b17f-37480a84fc90"
      },
      "execution_count": 9,
      "outputs": [
        {
          "output_type": "stream",
          "name": "stdout",
          "text": [
            "Missing values:\n",
            " name           0\n",
            "author         0\n",
            "user_rating    0\n",
            "reviews        0\n",
            "price          0\n",
            "year           0\n",
            "genre          0\n",
            "dtype: int64\n",
            "\n",
            " name           0.0\n",
            "author         0.0\n",
            "user_rating    0.0\n",
            "reviews        0.0\n",
            "price          0.0\n",
            "year           0.0\n",
            "genre          0.0\n",
            "dtype: float64\n"
          ]
        }
      ]
    },
    {
      "cell_type": "markdown",
      "source": [
        "**Перевірте, які є унікальні значення в колонці genre (використовуйте функцію unique)**"
      ],
      "metadata": {
        "id": "tH24kLRqhw52"
      }
    },
    {
      "cell_type": "code",
      "source": [
        "unique_genres = df[\"genre\"].unique()\n",
        "print(unique_genres)"
      ],
      "metadata": {
        "colab": {
          "base_uri": "https://localhost:8080/"
        },
        "id": "2NFbkskchxvo",
        "outputId": "09de9520-46d1-41b8-aee6-067003f07381"
      },
      "execution_count": 10,
      "outputs": [
        {
          "output_type": "stream",
          "name": "stdout",
          "text": [
            "['Non Fiction' 'Fiction']\n"
          ]
        }
      ]
    },
    {
      "cell_type": "markdown",
      "source": [
        "**Тепер подивіться на розподіл цін: побудуйте діаграму (використовуйте kind='hist')**"
      ],
      "metadata": {
        "id": "ISDiU92jh3hV"
      }
    },
    {
      "cell_type": "code",
      "source": [
        "df['price'].plot(kind='hist', bins=20, color='skyblue', edgecolor='black')\n",
        "\n",
        "plt.title('Розподіл цін')\n",
        "plt.xlabel('Ціна')\n",
        "plt.ylabel('Частота')\n",
        "\n",
        "plt.show()"
      ],
      "metadata": {
        "colab": {
          "base_uri": "https://localhost:8080/",
          "height": 472
        },
        "id": "ERuv6fVzh4Dm",
        "outputId": "906296f0-71a7-40fb-8cbf-b55c8b02a694"
      },
      "execution_count": 11,
      "outputs": [
        {
          "output_type": "display_data",
          "data": {
            "text/plain": [
              "<Figure size 640x480 with 1 Axes>"
            ],
            "image/png": "[encoded data removed]"
          },
          "metadata": {}
        }
      ]
    },
    {
      "cell_type": "markdown",
      "source": [
        "**Визначте, яка ціна у нас максимальна, мінімальна, середня, медіанна (використовуйте функції max, min, mean, median)**"
      ],
      "metadata": {
        "id": "WNv8yN8rh8BT"
      }
    },
    {
      "cell_type": "code",
      "source": [
        "max_price = df[\"price\"].max()\n",
        "min_price = df[\"price\"].min()\n",
        "mean_price = df[\"price\"].mean()\n",
        "median_price = df[\"price\"].median()\n",
        "\n",
        "print(f\"Максимальна ціна: {max_price}\")\n",
        "print(f\"Мінімальна ціна: {min_price}\")\n",
        "print(f\"Середня ціна: {mean_price}\")\n",
        "print(f\"Медіанна ціна: {median_price}\")"
      ],
      "metadata": {
        "colab": {
          "base_uri": "https://localhost:8080/"
        },
        "id": "ulz6K-fWh-2w",
        "outputId": "de524cb8-c103-4e2e-9eec-7c4d65f10a1f"
      },
      "execution_count": 12,
      "outputs": [
        {
          "output_type": "stream",
          "name": "stdout",
          "text": [
            "Максимальна ціна: 105\n",
            "Мінімальна ціна: 0\n",
            "Середня ціна: 13.1\n",
            "Медіанна ціна: 11.0\n"
          ]
        }
      ]
    },
    {
      "cell_type": "markdown",
      "source": [
        "**Пошук та сортування даних**"
      ],
      "metadata": {
        "id": "XCk4xUGqiD9l"
      }
    },
    {
      "cell_type": "code",
      "source": [
        "max_rating = df[\"user_rating\"].max()\n",
        "print(max_rating)"
      ],
      "metadata": {
        "colab": {
          "base_uri": "https://localhost:8080/"
        },
        "id": "YdkgdGuhiEcB",
        "outputId": "928b5527-7f68-4fb3-9cf1-2ac24ba545ef"
      },
      "execution_count": 13,
      "outputs": [
        {
          "output_type": "stream",
          "name": "stdout",
          "text": [
            "4.9\n"
          ]
        }
      ]
    },
    {
      "cell_type": "code",
      "source": [
        "top_rated_books = df[df[\"user_rating\"] == max_rating]\n",
        "print(f\"Кількість книг з найвищим рейтингом: {len(top_rated_books)}\")"
      ],
      "metadata": {
        "colab": {
          "base_uri": "https://localhost:8080/"
        },
        "id": "9YM1nGj4iM71",
        "outputId": "6d0c157c-6616-41c7-f751-b6972017904e"
      },
      "execution_count": 14,
      "outputs": [
        {
          "output_type": "stream",
          "name": "stdout",
          "text": [
            "Кількість книг з найвищим рейтингом: 52\n"
          ]
        }
      ]
    },
    {
      "cell_type": "code",
      "source": [
        "max_review = df[\"reviews\"].max()\n",
        "print(max_review)\n",
        "top_reviewed_books = df[df[\"reviews\"] == max_review]\n",
        "\n",
        "print(f\"Kнига має найбільше відгу \\nків: {top_reviewed_books}\")"
      ],
      "metadata": {
        "colab": {
          "base_uri": "https://localhost:8080/"
        },
        "id": "kRMvyK-WiQmi",
        "outputId": "945c9671-69b5-4230-ef5d-f71e968a2290"
      },
      "execution_count": 15,
      "outputs": [
        {
          "output_type": "stream",
          "name": "stdout",
          "text": [
            "87841\n",
            "Kнига має найбільше відгу \n",
            "ків:                         name       author  user_rating  reviews  price  year  \\\n",
            "534  Where the Crawdads Sing  Delia Owens          4.8    87841     15  2019   \n",
            "\n",
            "       genre  \n",
            "534  Fiction  \n"
          ]
        }
      ]
    },
    {
      "cell_type": "code",
      "source": [
        "books_2015 = df[df[\"year\"] == 2015]\n",
        "\n",
        "most_expensive = books_2015[\"price\"].max()\n",
        "\n",
        "most_expensive_book_name = books_2015.loc[books_2015[\"price\"] == most_expensive, \"name\"].item()\n",
        "print(f\"Hайдорожча Kнига у 2015 році: {most_expensive_book_name}\")"
      ],
      "metadata": {
        "colab": {
          "base_uri": "https://localhost:8080/"
        },
        "id": "ISbaZkttiUf6",
        "outputId": "995059f9-53bd-433e-c138-0b78433bac78"
      },
      "execution_count": 16,
      "outputs": [
        {
          "output_type": "stream",
          "name": "stdout",
          "text": [
            "Hайдорожча Kнига у 2015 році: Publication Manual of the American Psychological Association, 6th Edition\n"
          ]
        }
      ]
    },
    {
      "cell_type": "code",
      "source": [
        "fiction_books_2010 = df[(df['genre'] == 'Fiction') & (df['year'] == 2010)]\n",
        "\n",
        "print(f\"Кількість книг Fiction у Топ-50 2010 року: {len(fiction_books_2010)}\")"
      ],
      "metadata": {
        "colab": {
          "base_uri": "https://localhost:8080/"
        },
        "id": "KBu_VjOMiahG",
        "outputId": "63ad39d3-1042-40b0-e358-20f2ffd2db41"
      },
      "execution_count": 17,
      "outputs": [
        {
          "output_type": "stream",
          "name": "stdout",
          "text": [
            "Кількість книг Fiction у Топ-50 2010 року: 20\n"
          ]
        }
      ]
    },
    {
      "cell_type": "code",
      "source": [
        "books_49_rating = df[(df['user_rating'] == 4.9) & (df['year'].isin([2010, 2011]))]\n",
        "\n",
        "books_count = len(books_49_rating)\n",
        "\n",
        "print(\"Кількість книг з рейтингом 4.9 у 2010 та 2011 роках:\", books_count)"
      ],
      "metadata": {
        "colab": {
          "base_uri": "https://localhost:8080/"
        },
        "id": "THHs6Q8rid7g",
        "outputId": "72d146d4-df22-42d8-95ee-f63b9cb049fd"
      },
      "execution_count": 18,
      "outputs": [
        {
          "output_type": "stream",
          "name": "stdout",
          "text": [
            "Кількість книг з рейтингом 4.9 у 2010 та 2011 роках: 1\n"
          ]
        }
      ]
    },
    {
      "cell_type": "markdown",
      "source": [
        "**Відсортуємо за зростанням ціни всі книги, які потрапили до рейтингу в 2015 році і коштують дешевше за 8 доларів (використовуйте функцію sort_values).**"
      ],
      "metadata": {
        "id": "yq5PJCzyilsN"
      }
    },
    {
      "cell_type": "code",
      "source": [
        "books_2015 = df[df['year'] == 2015]\n",
        "cheap_books_2015 = books_2015[books_2015['price'] < 8]\n",
        "sorted_by_price = cheap_books_2015.sort_values(\"price\")\n",
        "print(sorted_by_price)\n",
        "print(\"\\nThe last book:\\n\", sorted_by_price.iloc[-1])"
      ],
      "metadata": {
        "colab": {
          "base_uri": "https://localhost:8080/"
        },
        "id": "OJRN9DzJiqFz",
        "outputId": "fcb574ac-976d-4477-b4ae-8f0741c159da"
      },
      "execution_count": 19,
      "outputs": [
        {
          "output_type": "stream",
          "name": "stdout",
          "text": [
            "                                                  name              author  \\\n",
            "507                              To Kill a Mockingbird          Harper Lee   \n",
            "210                      Laugh-Out-Loud Jokes for Kids         Rob Elliott   \n",
            "206                         Knock-Knock Jokes for Kids         Rob Elliott   \n",
            "111                                    First 100 Words        Roger Priddy   \n",
            "123                               Giraffes Can't Dance       Giles Andreae   \n",
            "54   Creative Haven Creative Cats Coloring Book (Ad...     Marjorie Sarnat   \n",
            "63                      Dear Zoo: A Lift-the-Flap Book        Rod Campbell   \n",
            "89   Dover Creative Haven Art Nouveau Animal Design...         Marty Noble   \n",
            "478                        The Very Hungry Caterpillar          Eric Carle   \n",
            "201  Killing Reagan: The Violent Assault That Chang...       Bill O'Reilly   \n",
            "28                        Baby Touch and Feel: Animals                  DK   \n",
            "224                                   Love You Forever       Robert Munsch   \n",
            "55   Creative Haven Owls Coloring Book (Adult Color...     Marjorie Sarnat   \n",
            "17      Adult Coloring Book: Stress Relieving Patterns  Blue Star Coloring   \n",
            "376  The Four Agreements: A Practical Guide to Pers...     Don Miguel Ruiz   \n",
            "16   Adult Coloring Book: Stress Relieving Animal D...  Blue Star Coloring   \n",
            "253              Old School (Diary of a Wimpy Kid #10)         Jeff Kinney   \n",
            "\n",
            "     user_rating  reviews  price  year        genre  \n",
            "507          4.8    26234      0  2015      Fiction  \n",
            "210          4.6     6990      4  2015  Non Fiction  \n",
            "206          4.5     3673      4  2015  Non Fiction  \n",
            "111          4.7    17323      4  2015  Non Fiction  \n",
            "123          4.8    14038      4  2015      Fiction  \n",
            "54           4.8     4022      4  2015  Non Fiction  \n",
            "63           4.8    10922      5  2015      Fiction  \n",
            "89           4.6     2134      5  2015  Non Fiction  \n",
            "478          4.9    19546      5  2015      Fiction  \n",
            "201          4.6     5235      5  2015  Non Fiction  \n",
            "28           4.6     5360      5  2015  Non Fiction  \n",
            "224          4.8    18613      5  2015      Fiction  \n",
            "55           4.8     3871      5  2015  Non Fiction  \n",
            "17           4.4     2951      6  2015  Non Fiction  \n",
            "376          4.7    23308      6  2015  Non Fiction  \n",
            "16           4.6     2925      6  2015  Non Fiction  \n",
            "253          4.8     6169      7  2015      Fiction  \n",
            "\n",
            "The last book:\n",
            " name           Old School (Diary of a Wimpy Kid #10)\n",
            "author                                   Jeff Kinney\n",
            "user_rating                                      4.8\n",
            "reviews                                         6169\n",
            "price                                              7\n",
            "year                                            2015\n",
            "genre                                        Fiction\n",
            "Name: 253, dtype: object\n"
          ]
        }
      ]
    },
    {
      "cell_type": "markdown",
      "source": [
        "**Агрегування даних та з'єднання таблиць**"
      ],
      "metadata": {
        "id": "xnmJ8SfeitiP"
      }
    },
    {
      "cell_type": "code",
      "source": [
        "grouped_by_genre = df.groupby(\"genre\")\n",
        "\n",
        "aggregated_prices = grouped_by_genre[\"price\"].agg([\"max\", \"min\"])\n",
        "\n",
        "print(aggregated_prices)"
      ],
      "metadata": {
        "colab": {
          "base_uri": "https://localhost:8080/"
        },
        "id": "S3s4ZDxZiwov",
        "outputId": "674ed728-c39e-411f-b5c6-2fd36dcf48a6"
      },
      "execution_count": 20,
      "outputs": [
        {
          "output_type": "stream",
          "name": "stdout",
          "text": [
            "             max  min\n",
            "genre                \n",
            "Fiction       82    0\n",
            "Non Fiction  105    0\n"
          ]
        }
      ]
    },
    {
      "cell_type": "markdown",
      "source": [
        "**Тепер створіть новий датафрейм, який вміщатиме кількість книг для кожного з авторів (використовуйте функції groupby та agg, для підрахунку кількості використовуйте count). Не беріть усі стовпці, виберете тільки потрібні**"
      ],
      "metadata": {
        "id": "7B_ERbI-i1QX"
      }
    },
    {
      "cell_type": "code",
      "source": [
        "grouped_by_auhtor = df.groupby(\"author\")\n",
        "aggregated_authors = grouped_by_auhtor[\"name\"].agg([\"count\"])\n",
        "\n",
        "print(\"Size of tabel\\n\", aggregated_authors.shape)\n",
        "print(\"\\n Author with most popular books(amount): \\n\", aggregated_authors.max())\n",
        "print(\"\\n Author with most popular books(name): \\n\", aggregated_authors.idxmax().iloc[0])"
      ],
      "metadata": {
        "colab": {
          "base_uri": "https://localhost:8080/"
        },
        "id": "LYhNTpcQi14r",
        "outputId": "8710b38c-e100-4bcf-ee39-14762d1a402c"
      },
      "execution_count": 21,
      "outputs": [
        {
          "output_type": "stream",
          "name": "stdout",
          "text": [
            "Size of tabel\n",
            " (248, 1)\n",
            "\n",
            " Author with most popular books(amount): \n",
            " count    12\n",
            "dtype: int64\n",
            "\n",
            " Author with most popular books(name): \n",
            " Jeff Kinney\n"
          ]
        }
      ]
    },
    {
      "cell_type": "code",
      "source": [
        "grouped_by_auhtor = df.groupby(\"author\")\n",
        "aggregated_authors_mean = grouped_by_auhtor[\"user_rating\"].agg([\"mean\"])\n",
        "#print(aggregated_authors.head())\n",
        "\n",
        "print(\"Min rating: \", aggregated_authors_mean.min())\n",
        "print(\"Author with Min rating: \", aggregated_authors_mean.idxmin().iloc[0])"
      ],
      "metadata": {
        "colab": {
          "base_uri": "https://localhost:8080/"
        },
        "id": "6w5aWLrqi8v8",
        "outputId": "7a2fea92-fbfa-473b-b870-3d98a6af487a"
      },
      "execution_count": 22,
      "outputs": [
        {
          "output_type": "stream",
          "name": "stdout",
          "text": [
            "Min rating:  mean    3.9\n",
            "dtype: float64\n",
            "Author with Min rating:  Donna Tartt\n"
          ]
        }
      ]
    },
    {
      "cell_type": "markdown",
      "source": [
        "**З'єднайте останні два датафрейми так, щоб для кожного автора було видно кількість книг та середній рейтинг (Використовуйте функцію concat з параметром axis=1). Збережіть результат у змінну**"
      ],
      "metadata": {
        "id": "6M7ZRV8ijAEZ"
      }
    },
    {
      "cell_type": "code",
      "source": [
        "combined_df = pd.concat([aggregated_authors, aggregated_authors_mean], axis=1)\n",
        "result = combined_df\n",
        "print(result.to_string())"
      ],
      "metadata": {
        "colab": {
          "base_uri": "https://localhost:8080/"
        },
        "id": "MkuhnSoXjAna",
        "outputId": "86566ea9-607c-4097-82d0-f560504a7ec9"
      },
      "execution_count": 23,
      "outputs": [
        {
          "output_type": "stream",
          "name": "stdout",
          "text": [
            "                                    count      mean\n",
            "author                                             \n",
            "Abraham Verghese                        2  4.600000\n",
            "Adam Gasiewski                          1  4.400000\n",
            "Adam Mansbach                           1  4.800000\n",
            "Adir Levy                               1  4.800000\n",
            "Admiral William H. McRaven              1  4.700000\n",
            "Adult Coloring Book Designs             1  4.500000\n",
            "Alan Moore                              1  4.800000\n",
            "Alex Michaelides                        1  4.500000\n",
            "Alice Schertle                          1  4.900000\n",
            "Allie Brosh                             1  4.700000\n",
            "American Psychiatric Association        2  4.500000\n",
            "American Psychological Association     10  4.500000\n",
            "Amor Towles                             1  4.700000\n",
            "Amy Ramos                               2  4.300000\n",
            "Amy Shields                             1  4.800000\n",
            "Andy Weir                               1  4.700000\n",
            "Angie Grace                             1  4.600000\n",
            "Angie Thomas                            1  4.800000\n",
            "Ann Voskamp                             2  4.600000\n",
            "Ann Whitford Paul                       2  4.800000\n",
            "Anthony Bourdain                        1  4.800000\n",
            "Anthony Doerr                           2  4.600000\n",
            "Atul Gawande                            1  4.800000\n",
            "Audrey Niffenegger                      1  4.400000\n",
            "B. J. Novak                             2  4.800000\n",
            "Bessel van der Kolk M.D.                1  4.800000\n",
            "Bill Martin Jr.                         2  4.900000\n",
            "Bill O'Reilly                           7  4.642857\n",
            "Bill Simmons                            1  4.700000\n",
            "Blue Star Coloring                      2  4.500000\n",
            "Bob Woodward                            1  4.400000\n",
            "Brandon Stanton                         3  4.833333\n",
            "Brené Brown                            1  4.800000\n",
            "Brian Kilmeade                          1  4.600000\n",
            "Bruce Springsteen                       1  4.700000\n",
            "Carol S. Dweck                          3  4.600000\n",
            "Celeste Ng                              1  4.500000\n",
            "Charlaine Harris                        4  4.450000\n",
            "Charles Duhigg                          1  4.600000\n",
            "Charles Krauthammer                     1  4.700000\n",
            "Cheryl Strayed                          1  4.400000\n",
            "Chip Gaines                             1  4.900000\n",
            "Chip Heath                              1  4.600000\n",
            "Chris Cleave                            1  4.100000\n",
            "Chris Kyle                              1  4.600000\n",
            "Chrissy Teigen                          1  4.700000\n",
            "Christina Baker Kline                   1  4.600000\n",
            "Christopher Paolini                     1  4.600000\n",
            "Coloring Books for Adults               1  4.500000\n",
            "Craig Smith                             2  4.800000\n",
            "Crispin Boyer                           1  4.800000\n",
            "DK                                      2  4.550000\n",
            "Dale Carnegie                           5  4.700000\n",
            "Dan Brown                               3  4.200000\n",
            "Daniel H. Pink                          1  4.500000\n",
            "Daniel James Brown                      2  4.800000\n",
            "Daniel Kahneman                         2  4.600000\n",
            "Daniel Lipkowitz                        2  4.400000\n",
            "Dav Pilkey                              7  4.900000\n",
            "Dave Ramsey                             1  4.700000\n",
            "David Goggins                           1  4.800000\n",
            "David Grann                             1  4.600000\n",
            "David McCullough                        1  4.700000\n",
            "David Perlmutter MD                     1  4.600000\n",
            "David Platt                             2  4.700000\n",
            "David Zinczenko                         2  4.400000\n",
            "Deborah Diesen                          2  4.800000\n",
            "Delegates of the Constitutional        1  4.800000\n",
            "Delia Owens                             1  4.800000\n",
            "Dinah Bucholz                           1  4.700000\n",
            "Don Miguel Ruiz                         6  4.700000\n",
            "Donna Tartt                             2  3.900000\n",
            "Doug Lemov                              2  4.400000\n",
            "Dr. Seuss                               9  4.877778\n",
            "Dr. Steven R Gundry MD                  2  4.450000\n",
            "Drew Daywalt                            3  4.800000\n",
            "E L James                               6  4.233333\n",
            "Eben Alexander                          2  4.300000\n",
            "Edward Klein                            1  4.600000\n",
            "Edward M. Kennedy                       1  4.500000\n",
            "Elie Wiesel                             1  4.700000\n",
            "Elizabeth Strout                        1  4.200000\n",
            "Emily Winfield Martin                   4  4.900000\n",
            "Eric Carle                              7  4.900000\n",
            "Eric Larson                             1  4.400000\n",
            "Ernest Cline                            2  4.600000\n",
            "F. A. Hayek                             1  4.600000\n",
            "F. Scott Fitzgerald                     3  4.400000\n",
            "Francis Chan                            3  4.700000\n",
            "Fredrik Backman                         2  4.600000\n",
            "Gallup                                  9  4.000000\n",
            "Garth Stein                             2  4.700000\n",
            "Gary Chapman                           11  4.736364\n",
            "Gayle Forman                            1  4.300000\n",
            "Geneen Roth                             1  4.200000\n",
            "George Orwell                           1  4.700000\n",
            "George R. R. Martin                     2  4.550000\n",
            "George R.R. Martin                      3  4.600000\n",
            "George W. Bush                          1  4.600000\n",
            "Giles Andreae                           5  4.800000\n",
            "Gillian Flynn                           3  4.000000\n",
            "Glenn Beck                              3  4.566667\n",
            "Golden Books                            1  4.800000\n",
            "Greg Mortenson                          2  4.300000\n",
            "Harper Lee                              6  4.600000\n",
            "Heidi Murkoff                           1  4.400000\n",
            "Hillary Rodham Clinton                  1  4.600000\n",
            "Hopscotch Girls                         1  4.800000\n",
            "Howard Stern                            1  4.300000\n",
            "Ian K. Smith M.D.                       1  4.100000\n",
            "Ina Garten                              3  4.666667\n",
            "J. D. Vance                             2  4.400000\n",
            "J. K. Rowling                           2  4.850000\n",
            "J.K. Rowling                            6  4.450000\n",
            "JJ Smith                                1  4.700000\n",
            "James Comey                             1  4.700000\n",
            "James Dashner                           1  4.500000\n",
            "James Patterson                         2  4.450000\n",
            "Jay Asher                               1  4.500000\n",
            "Jaycee Dugard                           1  4.600000\n",
            "Jeff Kinney                            12  4.800000\n",
            "Jen Sincero                             4  4.700000\n",
            "Jennifer Smith                          2  4.400000\n",
            "Jill Twiss                              1  4.900000\n",
            "Jim Collins                             4  4.500000\n",
            "Joanna Gaines                           2  4.800000\n",
            "Joel Fuhrman MD                         2  4.500000\n",
            "Johanna Basford                         2  4.700000\n",
            "John Green                              5  4.660000\n",
            "John Grisham                            5  4.400000\n",
            "John Heilemann                          1  4.400000\n",
            "Jon Meacham                             1  4.500000\n",
            "Jon Stewart                             1  4.400000\n",
            "Jonathan Cahn                           1  4.600000\n",
            "Jordan B. Peterson                      1  4.700000\n",
            "Julia Child                             1  4.800000\n",
            "Justin Halpern                          1  4.700000\n",
            "Kathryn Stockett                        4  4.800000\n",
            "Keith Richards                          1  4.500000\n",
            "Ken Follett                             1  4.500000\n",
            "Kevin Kwan                              1  4.300000\n",
            "Khaled Hosseini                         1  4.300000\n",
            "Kristin Hannah                          2  4.800000\n",
            "Larry Schweikart                        1  4.600000\n",
            "Laura Hillenbrand                       5  4.800000\n",
            "Laurel Randolph                         2  4.300000\n",
            "Lin-Manuel Miranda                      1  4.900000\n",
            "Lysa TerKeurst                          2  4.750000\n",
            "M Prefontaine                           1  4.600000\n",
            "Madeleine L'Engle                       1  4.500000\n",
            "Malcolm Gladwell                        4  4.500000\n",
            "Margaret Atwood                         1  4.300000\n",
            "Margaret Wise Brown                     3  4.800000\n",
            "Marie Kondō                             4  4.500000\n",
            "Marjorie Sarnat                         2  4.800000\n",
            "Mark Hyman M.D.                         1  4.200000\n",
            "Mark Manson                             3  4.600000\n",
            "Mark Owen                               1  4.600000\n",
            "Mark R. Levin                           2  4.850000\n",
            "Mark Twain                              1  4.200000\n",
            "Markus Zusak                            2  4.600000\n",
            "Marty Noble                             1  4.600000\n",
            "Mary Ann Shaffer                        1  4.700000\n",
            "Maurice Sendak                          1  4.800000\n",
            "Melissa Hartwig Urban                   3  4.600000\n",
            "Michael Lewis                           1  4.700000\n",
            "Michael Pollan                          1  4.400000\n",
            "Michael Wolff                           1  4.200000\n",
            "Michelle Obama                          2  4.800000\n",
            "Mike Moreno                             1  4.300000\n",
            "Mitch Albom                             1  4.800000\n",
            "Muriel Barbery                          1  4.000000\n",
            "Naomi Kleinberg                         2  4.700000\n",
            "Nathan W. Pyle                          1  4.900000\n",
            "National Geographic Kids                1  4.800000\n",
            "Neil deGrasse Tyson                     1  4.700000\n",
            "Paper Peony Press                       1  4.400000\n",
            "Patrick Lencioni                        5  4.600000\n",
            "Patrick Thorpe                          1  4.900000\n",
            "Paul Kalanithi                          1  4.800000\n",
            "Paula Hawkins                           2  4.100000\n",
            "Paula McLain                            1  4.300000\n",
            "Paulo Coelho                            1  4.700000\n",
            "Pete Souza                              1  4.900000\n",
            "Peter A. Lillback                       1  4.500000\n",
            "Phil Robertson                          1  4.800000\n",
            "Pierre Dukan                            1  4.100000\n",
            "Pretty Simple Press                     1  4.600000\n",
            "R. J. Palacio                           5  4.800000\n",
            "RH Disney                               2  4.650000\n",
            "Rachel Hollis                           3  4.600000\n",
            "Raina Telgemeier                        1  4.800000\n",
            "Randall Munroe                          1  4.700000\n",
            "Randy Pausch                            1  4.700000\n",
            "Ray Bradbury                            2  4.600000\n",
            "Rebecca Skloot                          3  4.700000\n",
            "Ree Drummond                            3  4.800000\n",
            "Rick Riordan                           11  4.772727\n",
            "Rob Bell                                1  4.200000\n",
            "Rob Elliott                             8  4.562500\n",
            "Robert Jordan                           1  4.800000\n",
            "Robert Munsch                           2  4.800000\n",
            "Rod Campbell                            4  4.800000\n",
            "Roger Priddy                            5  4.700000\n",
            "Ron Chernow                             1  4.800000\n",
            "Rupi Kaur                               4  4.700000\n",
            "Rush Limbaugh                           2  4.900000\n",
            "Samin Nosrat                            2  4.800000\n",
            "Sandra Boynton                          2  4.800000\n",
            "Sara Gruen                              1  4.500000\n",
            "Sarah Palin                             1  4.600000\n",
            "Sarah Young                             6  4.900000\n",
            "Sasha O'Hara                            1  4.600000\n",
            "Scholastic                              2  4.700000\n",
            "School Zone                             2  4.800000\n",
            "Sherri Duskey Rinker                    2  4.900000\n",
            "Sheryl Sandberg                         2  4.500000\n",
            "Silly Bear                              1  4.800000\n",
            "Stephen Kendrick                        1  4.800000\n",
            "Stephen King                            4  4.525000\n",
            "Stephen R. Covey                        7  4.642857\n",
            "Stephenie Meyer                         7  4.657143\n",
            "Steve Harvey                            1  4.600000\n",
            "Steven D. Levitt                        1  4.500000\n",
            "Stieg Larsson                           6  4.600000\n",
            "Susan Cain                              2  4.600000\n",
            "Suzanne Collins                        11  4.663636\n",
            "Ta-Nehisi Coates                        2  4.700000\n",
            "Tara Westover                           2  4.700000\n",
            "Tatiana de Rosnay                       1  4.600000\n",
            "The College Board                       6  4.383333\n",
            "The Staff of The Late Show with        1  4.600000\n",
            "The Washington Post                     1  4.600000\n",
            "Thomas Campbell                         1  4.700000\n",
            "Thomas Piketty                          1  4.500000\n",
            "Thug Kitchen                            4  4.600000\n",
            "Timothy Ferriss                         2  4.450000\n",
            "Tina Fey                                1  4.300000\n",
            "Todd Burpo                              2  4.700000\n",
            "Tony Hsieh                              1  4.600000\n",
            "Tucker Carlson                          1  4.800000\n",
            "Veronica Roth                           4  4.400000\n",
            "W. Cleon Skousen                        1  4.800000\n",
            "Walter Isaacson                         3  4.566667\n",
            "William Davis                           2  4.400000\n",
            "William P. Young                        2  4.600000\n",
            "Wizards RPG Team                        3  4.800000\n",
            "Zhi Gang Sha                            2  4.600000\n"
          ]
        }
      ]
    },
    {
      "cell_type": "code",
      "source": [
        "sorted_df = combined_df.sort_values(by=['count', 'mean'])\n",
        "print(sorted_df.head())"
      ],
      "metadata": {
        "colab": {
          "base_uri": "https://localhost:8080/"
        },
        "id": "D2ipuRaBjGis",
        "outputId": "f039c43f-7b75-429c-ddf6-8c40e720defe"
      },
      "execution_count": 24,
      "outputs": [
        {
          "output_type": "stream",
          "name": "stdout",
          "text": [
            "                   count  mean\n",
            "author                        \n",
            "Muriel Barbery         1   4.0\n",
            "Chris Cleave           1   4.1\n",
            "Ian K. Smith M.D.      1   4.1\n",
            "Pierre Dukan           1   4.1\n",
            "Elizabeth Strout       1   4.2\n"
          ]
        }
      ]
    },
    {
      "cell_type": "code",
      "source": [
        "plt.style.use('dark_background')\n",
        "\n",
        "combined_df.plot.scatter(x='count', y='mean', color='r')\n",
        "\n",
        "plt.xlabel('Кількість книг', fontsize=12)\n",
        "plt.ylabel('Рейтинг', fontsize=12)\n",
        "plt.title('Точкова діаграма кількості книг vs. рейтингу', fontsize=14)\n",
        "\n",
        "plt.legend(['Books'], loc='best')\n",
        "\n",
        "plt.show()"
      ],
      "metadata": {
        "colab": {
          "base_uri": "https://localhost:8080/",
          "height": 477
        },
        "id": "lV1JozvxjJgC",
        "outputId": "0c6fb8a2-d72c-4f97-9c3e-dc45ac856344"
      },
      "execution_count": 25,
      "outputs": [
        {
          "output_type": "display_data",
          "data": {
            "text/plain": [
              "<Figure size 640x480 with 1 Axes>"
            ],
            "image/png": "[encoded data removed]"
          },
          "metadata": {}
        }
      ]
    },
    {
      "cell_type": "code",
      "source": [
        "df_2009 = df[df['year'] == 2010]\n",
        "\n",
        "\n",
        "fig, ax = plt.subplots(figsize=(10, 8))\n",
        "\n",
        "\n",
        "df_2009.plot(x='author', y='user_rating', color='skyblue', ax=ax, label='User Rating')\n",
        "df_2009.plot(x='author', y='price', color='salmon', ax=ax, label='Price')\n",
        "\n",
        "\n",
        "ax.set_title('User Rating and Price of Books in 2009')\n",
        "ax.set_xlabel('Book Name')\n",
        "ax.set_ylabel('Value')\n",
        "\n",
        "\n",
        "plt.xticks(rotation=45, ha='right')\n",
        "\n",
        "\n",
        "plt.legend()\n",
        "\n",
        "\n",
        "plt.tight_layout()\n",
        "\n",
        "\n",
        "plt.show()"
      ],
      "metadata": {
        "colab": {
          "base_uri": "https://localhost:8080/",
          "height": 807
        },
        "id": "sWNz-fOGjNca",
        "outputId": "3d24eebc-2b45-4a74-ec41-e6d378e3c632"
      },
      "execution_count": 26,
      "outputs": [
        {
          "output_type": "display_data",
          "data": {
            "text/plain": [
              "<Figure size 1000x800 with 1 Axes>"
            ],
            "image/png": "[encoded data removed]"
          },
          "metadata": {}
        }
      ]
    }
  ]
}