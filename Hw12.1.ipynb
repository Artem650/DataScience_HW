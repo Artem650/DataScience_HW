{
  "cells": [
    {
      "cell_type": "markdown",
      "id": "c26ababb",
      "metadata": {
        "id": "c26ababb"
      },
      "source": [
        "## Create a summary of the text below using NLP libraries: nltk and SpaCy"
      ]
    },
    {
      "cell_type": "code",
      "execution_count": 12,
      "id": "eaf68c0b",
      "metadata": {
        "id": "eaf68c0b"
      },
      "outputs": [],
      "source": [
        "import spacy\n",
        "import nltk\n",
        "from nltk.corpus import stopwords\n",
        "from nltk.tokenize import word_tokenize, sent_tokenize\n",
        "from string import punctuation\n",
        "from heapq import nlargest\n",
        "import matplotlib.pyplot as plt"
      ]
    },
    {
      "cell_type": "code",
      "execution_count": 13,
      "id": "3a7968ee",
      "metadata": {
        "colab": {
          "base_uri": "https://localhost:8080/"
        },
        "id": "3a7968ee",
        "outputId": "cfe2e623-1384-43cb-a7dd-b89fef674b28"
      },
      "outputs": [
        {
          "output_type": "stream",
          "name": "stderr",
          "text": [
            "[nltk_data] Downloading package stopwords to /root/nltk_data...\n",
            "[nltk_data]   Package stopwords is already up-to-date!\n",
            "[nltk_data] Downloading package punkt to /root/nltk_data...\n",
            "[nltk_data]   Package punkt is already up-to-date!\n"
          ]
        },
        {
          "output_type": "execute_result",
          "data": {
            "text/plain": [
              "True"
            ]
          },
          "metadata": {},
          "execution_count": 13
        }
      ],
      "source": [
        "nlp = spacy.load('en_core_web_sm')\n",
        "nltk.download('stopwords')\n",
        "nltk.download('punkt')"
      ]
    },
    {
      "cell_type": "code",
      "execution_count": 14,
      "id": "45812a32",
      "metadata": {
        "id": "45812a32"
      },
      "outputs": [],
      "source": [
        "input_text = \"The Orbiter Discovery, OV-103, is considered eligible for listing in the National Register of Historic Places (NRHP) in the context of the U.S. Space Shuttle Program (1969-2011) under Criterion A in the areas of Space Exploration and Transportation and under Criterion C in the area of Engineering. Because it has achieved significance within the past fifty years, Criteria Consideration G applies. Under Criterion A, Discovery is significant as the oldest of the three extant orbiter vehicles constructed for the Space Shuttle Program (SSP), the longest running American space program to date; she was the third of five orbiters built by NASA. Unlike the Mercury, Gemini, and Apollo programs, the SSP’s emphasis was on cost effectiveness and reusability, and eventually the construction of a space station. Including her maiden voyage (launched August 30, 1984), Discovery flew to space thirty-nine times, more than any of the other four orbiters; she was also the first orbiter to fly twenty missions. She had the honor of being chosen as the Return to Flight vehicle after both the Challenger and Columbia accidents. Discovery was the first shuttle to fly with the redesigned SRBs, a result of the Challenger accident, and the first shuttle to fly with the Phase II and Block I SSME. Discovery also carried the Hubble Space Telescope to orbit and performed two of the five servicing missions to the observatory. She flew the first and last dedicated Department of Defense (DoD) missions, as well as the first unclassified defense-related mission. In addition, Discovery was vital to the construction of the International Space Station (ISS); she flew thirteen of the thirty-seven total missions flown to the station by a U.S. Space Shuttle. She was the first orbiter to dock to the ISS, and the first to perform an exchange of a resident crew. Under Criterion C, Discovery is significant as a feat of engineering. According to Wayne Hale, a flight director from Johnson Space Center, the Space Shuttle orbiter represents a “huge technological leap from expendable rockets and capsules to a reusable, winged, hypersonic, cargo-carrying spacecraft.” Although her base structure followed a conventional aircraft design, she used advanced materials that both minimized her weight for cargo-carrying purposes and featured low thermal expansion ratios, which provided a stable base for her Thermal Protection System (TPS) materials. The Space Shuttle orbiter also featured the first reusable TPS; all previous spaceflight vehicles had a single-use, ablative heat shield. Other notable engineering achievements of the orbiter included the first reusable orbital propulsion system, and the first two-fault-tolerant Integrated Avionics System. As Hale stated, the Space Shuttle remains “the largest, fastest, winged hypersonic aircraft in history,” having regularly flown at twenty-five times the speed of sound.\"\n"
      ]
    },
    {
      "cell_type": "code",
      "execution_count": 15,
      "id": "e32f9218",
      "metadata": {
        "colab": {
          "base_uri": "https://localhost:8080/"
        },
        "id": "e32f9218",
        "outputId": "c8a7cbfb-24de-4a58-888c-04f78ebdc36e"
      },
      "outputs": [
        {
          "output_type": "stream",
          "name": "stdout",
          "text": [
            "['The', 'Orbiter', 'Discovery', ',', 'OV-103', ',', 'is', 'considered', 'eligible', 'for', 'listing', 'in', 'the', 'National', 'Register', 'of', 'Historic', 'Places', '(', 'NRHP', ')', 'in', 'the', 'context', 'of', 'the', 'U.S.', 'Space', 'Shuttle', 'Program', '(', '1969', '-', '2011', ')', 'under', 'Criterion', 'A', 'in', 'the', 'areas', 'of', 'Space', 'Exploration', 'and', 'Transportation', 'and', 'under', 'Criterion', 'C', 'in', 'the', 'area', 'of', 'Engineering', '.', 'Because', 'it', 'has', 'achieved', 'significance', 'within', 'the', 'past', 'fifty', 'years', ',', 'Criteria', 'Consideration', 'G', 'applies', '.', 'Under', 'Criterion', 'A', ',', 'Discovery', 'is', 'significant', 'as', 'the', 'oldest', 'of', 'the', 'three', 'extant', 'orbiter', 'vehicles', 'constructed', 'for', 'the', 'Space', 'Shuttle', 'Program', '(', 'SSP', ')', ',', 'the', 'longest', 'running', 'American', 'space', 'program', 'to', 'date', ';', 'she', 'was', 'the', 'third', 'of', 'five', 'orbiters', 'built', 'by', 'NASA', '.', 'Unlike', 'the', 'Mercury', ',', 'Gemini', ',', 'and', 'Apollo', 'programs', ',', 'the', 'SSP', '’s', 'emphasis', 'was', 'on', 'cost', 'effectiveness', 'and', 'reusability', ',', 'and', 'eventually', 'the', 'construction', 'of', 'a', 'space', 'station', '.', 'Including', 'her', 'maiden', 'voyage', '(', 'launched', 'August', '30', ',', '1984', ')', ',', 'Discovery', 'flew', 'to', 'space', 'thirty', '-', 'nine', 'times', ',', 'more', 'than', 'any', 'of', 'the', 'other', 'four', 'orbiters', ';', 'she', 'was', 'also', 'the', 'first', 'orbiter', 'to', 'fly', 'twenty', 'missions', '.', 'She', 'had', 'the', 'honor', 'of', 'being', 'chosen', 'as', 'the', 'Return', 'to', 'Flight', 'vehicle', 'after', 'both', 'the', 'Challenger', 'and', 'Columbia', 'accidents', '.', 'Discovery', 'was', 'the', 'first', 'shuttle', 'to', 'fly', 'with', 'the', 'redesigned', 'SRBs', ',', 'a', 'result', 'of', 'the', 'Challenger', 'accident', ',', 'and', 'the', 'first', 'shuttle', 'to', 'fly', 'with', 'the', 'Phase', 'II', 'and', 'Block', 'I', 'SSME', '.', 'Discovery', 'also', 'carried', 'the', 'Hubble', 'Space', 'Telescope', 'to', 'orbit', 'and', 'performed', 'two', 'of', 'the', 'five', 'servicing', 'missions', 'to', 'the', 'observatory', '.', 'She', 'flew', 'the', 'first', 'and', 'last', 'dedicated', 'Department', 'of', 'Defense', '(', 'DoD', ')', 'missions', ',', 'as', 'well', 'as', 'the', 'first', 'unclassified', 'defense', '-', 'related', 'mission', '.', 'In', 'addition', ',', 'Discovery', 'was', 'vital', 'to', 'the', 'construction', 'of', 'the', 'International', 'Space', 'Station', '(', 'ISS', ')', ';', 'she', 'flew', 'thirteen', 'of', 'the', 'thirty', '-', 'seven', 'total', 'missions', 'flown', 'to', 'the', 'station', 'by', 'a', 'U.S.', 'Space', 'Shuttle', '.', 'She', 'was', 'the', 'first', 'orbiter', 'to', 'dock', 'to', 'the', 'ISS', ',', 'and', 'the', 'first', 'to', 'perform', 'an', 'exchange', 'of', 'a', 'resident', 'crew', '.', 'Under', 'Criterion', 'C', ',', 'Discovery', 'is', 'significant', 'as', 'a', 'feat', 'of', 'engineering', '.', 'According', 'to', 'Wayne', 'Hale', ',', 'a', 'flight', 'director', 'from', 'Johnson', 'Space', 'Center', ',', 'the', 'Space', 'Shuttle', 'orbiter', 'represents', 'a', '“', 'huge', 'technological', 'leap', 'from', 'expendable', 'rockets', 'and', 'capsules', 'to', 'a', 'reusable', ',', 'winged', ',', 'hypersonic', ',', 'cargo', '-', 'carrying', 'spacecraft', '.', '”', 'Although', 'her', 'base', 'structure', 'followed', 'a', 'conventional', 'aircraft', 'design', ',', 'she', 'used', 'advanced', 'materials', 'that', 'both', 'minimized', 'her', 'weight', 'for', 'cargo', '-', 'carrying', 'purposes', 'and', 'featured', 'low', 'thermal', 'expansion', 'ratios', ',', 'which', 'provided', 'a', 'stable', 'base', 'for', 'her', 'Thermal', 'Protection', 'System', '(', 'TPS', ')', 'materials', '.', 'The', 'Space', 'Shuttle', 'orbiter', 'also', 'featured', 'the', 'first', 'reusable', 'TPS', ';', 'all', 'previous', 'spaceflight', 'vehicles', 'had', 'a', 'single', '-', 'use', ',', 'ablative', 'heat', 'shield', '.', 'Other', 'notable', 'engineering', 'achievements', 'of', 'the', 'orbiter', 'included', 'the', 'first', 'reusable', 'orbital', 'propulsion', 'system', ',', 'and', 'the', 'first', 'two', '-', 'fault', '-', 'tolerant', 'Integrated', 'Avionics', 'System', '.', 'As', 'Hale', 'stated', ',', 'the', 'Space', 'Shuttle', 'remains', '“', 'the', 'largest', ',', 'fastest', ',', 'winged', 'hypersonic', 'aircraft', 'in', 'history', ',', '”', 'having', 'regularly', 'flown', 'at', 'twenty', '-', 'five', 'times', 'the', 'speed', 'of', 'sound', '.']\n"
          ]
        }
      ],
      "source": [
        "doc = nlp(input_text)\n",
        "tokens = [token.text for token in doc]\n",
        "\n",
        "print(tokens)"
      ]
    },
    {
      "cell_type": "code",
      "execution_count": 16,
      "id": "dc769b3f",
      "metadata": {
        "colab": {
          "base_uri": "https://localhost:8080/"
        },
        "id": "dc769b3f",
        "outputId": "53a70c9b-3572-4473-a710-4fe857836418"
      },
      "outputs": [
        {
          "output_type": "stream",
          "name": "stdout",
          "text": [
            "NLTK Tokens: ['The', 'Orbiter', 'Discovery', ',', 'OV-103', ',', 'is', 'considered', 'eligible', 'for', 'listing', 'in', 'the', 'National', 'Register', 'of', 'Historic', 'Places', '(', 'NRHP', ')', 'in', 'the', 'context', 'of', 'the', 'U.S.', 'Space', 'Shuttle', 'Program', '(', '1969-2011', ')', 'under', 'Criterion', 'A', 'in', 'the', 'areas', 'of', 'Space', 'Exploration', 'and', 'Transportation', 'and', 'under', 'Criterion', 'C', 'in', 'the', 'area', 'of', 'Engineering', '.', 'Because', 'it', 'has', 'achieved', 'significance', 'within', 'the', 'past', 'fifty', 'years', ',', 'Criteria', 'Consideration', 'G', 'applies', '.', 'Under', 'Criterion', 'A', ',', 'Discovery', 'is', 'significant', 'as', 'the', 'oldest', 'of', 'the', 'three', 'extant', 'orbiter', 'vehicles', 'constructed', 'for', 'the', 'Space', 'Shuttle', 'Program', '(', 'SSP', ')', ',', 'the', 'longest', 'running', 'American', 'space', 'program', 'to', 'date', ';', 'she', 'was', 'the', 'third', 'of', 'five', 'orbiters', 'built', 'by', 'NASA', '.', 'Unlike', 'the', 'Mercury', ',', 'Gemini', ',', 'and', 'Apollo', 'programs', ',', 'the', 'SSP', '’', 's', 'emphasis', 'was', 'on', 'cost', 'effectiveness', 'and', 'reusability', ',', 'and', 'eventually', 'the', 'construction', 'of', 'a', 'space', 'station', '.', 'Including', 'her', 'maiden', 'voyage', '(', 'launched', 'August', '30', ',', '1984', ')', ',', 'Discovery', 'flew', 'to', 'space', 'thirty-nine', 'times', ',', 'more', 'than', 'any', 'of', 'the', 'other', 'four', 'orbiters', ';', 'she', 'was', 'also', 'the', 'first', 'orbiter', 'to', 'fly', 'twenty', 'missions', '.', 'She', 'had', 'the', 'honor', 'of', 'being', 'chosen', 'as', 'the', 'Return', 'to', 'Flight', 'vehicle', 'after', 'both', 'the', 'Challenger', 'and', 'Columbia', 'accidents', '.', 'Discovery', 'was', 'the', 'first', 'shuttle', 'to', 'fly', 'with', 'the', 'redesigned', 'SRBs', ',', 'a', 'result', 'of', 'the', 'Challenger', 'accident', ',', 'and', 'the', 'first', 'shuttle', 'to', 'fly', 'with', 'the', 'Phase', 'II', 'and', 'Block', 'I', 'SSME', '.', 'Discovery', 'also', 'carried', 'the', 'Hubble', 'Space', 'Telescope', 'to', 'orbit', 'and', 'performed', 'two', 'of', 'the', 'five', 'servicing', 'missions', 'to', 'the', 'observatory', '.', 'She', 'flew', 'the', 'first', 'and', 'last', 'dedicated', 'Department', 'of', 'Defense', '(', 'DoD', ')', 'missions', ',', 'as', 'well', 'as', 'the', 'first', 'unclassified', 'defense-related', 'mission', '.', 'In', 'addition', ',', 'Discovery', 'was', 'vital', 'to', 'the', 'construction', 'of', 'the', 'International', 'Space', 'Station', '(', 'ISS', ')', ';', 'she', 'flew', 'thirteen', 'of', 'the', 'thirty-seven', 'total', 'missions', 'flown', 'to', 'the', 'station', 'by', 'a', 'U.S.', 'Space', 'Shuttle', '.', 'She', 'was', 'the', 'first', 'orbiter', 'to', 'dock', 'to', 'the', 'ISS', ',', 'and', 'the', 'first', 'to', 'perform', 'an', 'exchange', 'of', 'a', 'resident', 'crew', '.', 'Under', 'Criterion', 'C', ',', 'Discovery', 'is', 'significant', 'as', 'a', 'feat', 'of', 'engineering', '.', 'According', 'to', 'Wayne', 'Hale', ',', 'a', 'flight', 'director', 'from', 'Johnson', 'Space', 'Center', ',', 'the', 'Space', 'Shuttle', 'orbiter', 'represents', 'a', '“', 'huge', 'technological', 'leap', 'from', 'expendable', 'rockets', 'and', 'capsules', 'to', 'a', 'reusable', ',', 'winged', ',', 'hypersonic', ',', 'cargo-carrying', 'spacecraft.', '”', 'Although', 'her', 'base', 'structure', 'followed', 'a', 'conventional', 'aircraft', 'design', ',', 'she', 'used', 'advanced', 'materials', 'that', 'both', 'minimized', 'her', 'weight', 'for', 'cargo-carrying', 'purposes', 'and', 'featured', 'low', 'thermal', 'expansion', 'ratios', ',', 'which', 'provided', 'a', 'stable', 'base', 'for', 'her', 'Thermal', 'Protection', 'System', '(', 'TPS', ')', 'materials', '.', 'The', 'Space', 'Shuttle', 'orbiter', 'also', 'featured', 'the', 'first', 'reusable', 'TPS', ';', 'all', 'previous', 'spaceflight', 'vehicles', 'had', 'a', 'single-use', ',', 'ablative', 'heat', 'shield', '.', 'Other', 'notable', 'engineering', 'achievements', 'of', 'the', 'orbiter', 'included', 'the', 'first', 'reusable', 'orbital', 'propulsion', 'system', ',', 'and', 'the', 'first', 'two-fault-tolerant', 'Integrated', 'Avionics', 'System', '.', 'As', 'Hale', 'stated', ',', 'the', 'Space', 'Shuttle', 'remains', '“', 'the', 'largest', ',', 'fastest', ',', 'winged', 'hypersonic', 'aircraft', 'in', 'history', ',', '”', 'having', 'regularly', 'flown', 'at', 'twenty-five', 'times', 'the', 'speed', 'of', 'sound', '.']\n",
            "NLTK Sentences: ['The Orbiter Discovery, OV-103, is considered eligible for listing in the National Register of Historic Places (NRHP) in the context of the U.S. Space Shuttle Program (1969-2011) under Criterion A in the areas of Space Exploration and Transportation and under Criterion C in the area of Engineering.', 'Because it has achieved significance within the past fifty years, Criteria Consideration G applies.', 'Under Criterion A, Discovery is significant as the oldest of the three extant orbiter vehicles constructed for the Space Shuttle Program (SSP), the longest running American space program to date; she was the third of five orbiters built by NASA.', 'Unlike the Mercury, Gemini, and Apollo programs, the SSP’s emphasis was on cost effectiveness and reusability, and eventually the construction of a space station.', 'Including her maiden voyage (launched August 30, 1984), Discovery flew to space thirty-nine times, more than any of the other four orbiters; she was also the first orbiter to fly twenty missions.', 'She had the honor of being chosen as the Return to Flight vehicle after both the Challenger and Columbia accidents.', 'Discovery was the first shuttle to fly with the redesigned SRBs, a result of the Challenger accident, and the first shuttle to fly with the Phase II and Block I SSME.', 'Discovery also carried the Hubble Space Telescope to orbit and performed two of the five servicing missions to the observatory.', 'She flew the first and last dedicated Department of Defense (DoD) missions, as well as the first unclassified defense-related mission.', 'In addition, Discovery was vital to the construction of the International Space Station (ISS); she flew thirteen of the thirty-seven total missions flown to the station by a U.S. Space Shuttle.', 'She was the first orbiter to dock to the ISS, and the first to perform an exchange of a resident crew.', 'Under Criterion C, Discovery is significant as a feat of engineering.', 'According to Wayne Hale, a flight director from Johnson Space Center, the Space Shuttle orbiter represents a “huge technological leap from expendable rockets and capsules to a reusable, winged, hypersonic, cargo-carrying spacecraft.” Although her base structure followed a conventional aircraft design, she used advanced materials that both minimized her weight for cargo-carrying purposes and featured low thermal expansion ratios, which provided a stable base for her Thermal Protection System (TPS) materials.', 'The Space Shuttle orbiter also featured the first reusable TPS; all previous spaceflight vehicles had a single-use, ablative heat shield.', 'Other notable engineering achievements of the orbiter included the first reusable orbital propulsion system, and the first two-fault-tolerant Integrated Avionics System.', 'As Hale stated, the Space Shuttle remains “the largest, fastest, winged hypersonic aircraft in history,” having regularly flown at twenty-five times the speed of sound.']\n",
            "Stop Words: {'ours', \"isn't\", 'theirs', 'on', 'into', 'for', 'you', 'her', 'his', 'during', 'myself', 'which', 'but', 'doesn', 'their', 'weren', 'himself', 'same', 'who', 'above', \"shouldn't\", 'again', \"you'll\", 'my', 'ourselves', 'why', 'she', \"you've\", 'yourself', 'under', 'own', 'whom', 'here', 'won', 'so', 'isn', 'me', \"mustn't\", 'it', 'have', 'not', 'were', 'he', 'themselves', \"couldn't\", 'has', \"you'd\", 'we', 'as', 'or', 'aren', 'about', 'where', 'to', 'will', 'haven', 'those', 'y', 'this', 'that', 'both', 'at', 'such', \"mightn't\", 'do', 'nor', \"shan't\", 'yourselves', 'with', 'doing', \"hasn't\", 'all', 'our', 'while', 'most', 'when', \"that'll\", \"weren't\", 'couldn', 'how', 'from', 'of', 'no', 'further', \"you're\", 'through', 'more', 'should', 'hadn', 'hers', 'in', 'yours', 'some', 'shan', 'itself', 'i', 'herself', \"wasn't\", 'mustn', 'its', 'out', \"needn't\", \"haven't\", \"wouldn't\", 'needn', 'did', 'your', 'if', 'am', 'been', 'and', 'after', 'any', 've', 'ain', \"she's\", 'are', 'up', 'd', 'can', 'll', 'what', 'is', 'does', 'didn', 'below', 'the', 'shouldn', 'these', 's', 'mightn', 'between', \"aren't\", 'only', 'against', 'before', 'him', 'few', 't', 'o', \"hadn't\", 'by', 'over', 'other', 'than', \"didn't\", \"it's\", 'down', 'was', 'a', 'an', 'too', \"should've\", 're', \"doesn't\", 'off', 'each', 'don', 'being', 'm', 'ma', 'having', 'then', 'wouldn', 'once', 'had', 'wasn', 'them', \"don't\", 'be', 'until', 'now', 'because', 'they', 'just', \"won't\", 'very', 'there', 'hasn'}\n",
            "Punctuation: !\"#$%&'()*+,-./:;<=>?@[\\]^_`{|}~\n",
            "\n"
          ]
        }
      ],
      "source": [
        "tokens = word_tokenize(input_text)\n",
        "sentences = sent_tokenize(input_text)\n",
        "stop_words = set(stopwords.words('english'))\n",
        "punctuation = punctuation + '\\n'\n",
        "\n",
        "\n",
        "print(\"NLTK Tokens:\", tokens)\n",
        "print(\"NLTK Sentences:\", sentences)\n",
        "print(\"Stop Words:\", stop_words)\n",
        "print(\"Punctuation:\", punctuation)"
      ]
    },
    {
      "cell_type": "code",
      "execution_count": 17,
      "id": "dddd93cf",
      "metadata": {
        "id": "dddd93cf"
      },
      "outputs": [],
      "source": [
        "word_frequencies = {}\n",
        "for word in doc:\n",
        "  if word.text.lower() not in stop_words:\n",
        "    if word.text.lower() not in punctuation:\n",
        "      if word.text not in word_frequencies.keys():\n",
        "        word_frequencies[word.text] = 1\n",
        "      else:\n",
        "        word_frequencies[word.text] += 1"
      ]
    },
    {
      "cell_type": "code",
      "execution_count": 18,
      "id": "70fc59cc",
      "metadata": {
        "id": "70fc59cc"
      },
      "outputs": [],
      "source": [
        "max_frequency = max(word_frequencies.values())\n",
        "\n",
        "for word in word_frequencies:\n",
        "    word_frequencies[word] = word_frequencies[word] / max_frequency"
      ]
    },
    {
      "cell_type": "code",
      "execution_count": 19,
      "id": "13e09fb1",
      "metadata": {
        "id": "13e09fb1"
      },
      "outputs": [],
      "source": [
        "sentence_tokens = [sent for sent in doc.sents]"
      ]
    },
    {
      "cell_type": "code",
      "execution_count": 20,
      "id": "63d3c4a1",
      "metadata": {
        "id": "63d3c4a1"
      },
      "outputs": [],
      "source": [
        "sentence_scores = {}\n",
        "for sent in sentence_tokens:\n",
        "    for word in sent:\n",
        "        if word.text.lower() in word_frequencies:\n",
        "            if sent not in sentence_scores:\n",
        "                sentence_scores[sent] = word_frequencies[word.text.lower()]\n",
        "            else:\n",
        "                sentence_scores[sent] += word_frequencies[word.text.lower()]"
      ]
    },
    {
      "cell_type": "code",
      "execution_count": 21,
      "id": "8bd373b4",
      "metadata": {
        "colab": {
          "base_uri": "https://localhost:8080/"
        },
        "id": "8bd373b4",
        "outputId": "a25f2d22-06db-465e-ca71-46b0ee8b09b5"
      },
      "outputs": [
        {
          "output_type": "stream",
          "name": "stdout",
          "text": [
            "Including her maiden voyage (launched August 30, 1984), Discovery flew to space thirty-nine times, more than any of the other four orbiters; she was also the first orbiter to fly twenty missions.\n"
          ]
        }
      ],
      "source": [
        "percentage = 0.1\n",
        "select_length = int(len(sentence_tokens) * percentage)\n",
        "summary = nlargest(select_length, sentence_scores, key=sentence_scores.get)\n",
        "\n",
        "final_summary = [word.text for word in summary]\n",
        "summary = ' '.join(final_summary)\n",
        "\n",
        "print(summary)"
      ]
    },
    {
      "cell_type": "code",
      "execution_count": 22,
      "id": "b2b3f189",
      "metadata": {
        "colab": {
          "base_uri": "https://localhost:8080/",
          "height": 564
        },
        "id": "b2b3f189",
        "outputId": "0642d47d-7b42-4f8f-a284-a31140fceeb1"
      },
      "outputs": [
        {
          "output_type": "display_data",
          "data": {
            "text/plain": [
              "<Figure size 1000x600 with 1 Axes>"
            ],
            "image/png": "[encoded data removed]"
          },
          "metadata": {}
        }
      ],
      "source": [
        "plt.figure(figsize=(10, 6))\n",
        "plt.xlabel('Index')\n",
        "plt.ylabel('Sentences')\n",
        "plt.title('Visualization of summary')\n",
        "\n",
        "important_indices = [i for i, sentence in enumerate(sentences) if sentence in summary]\n",
        "plt.bar(range(len(sentences)), [1] * len(sentences), color='lightgrey', label='Some sentences')\n",
        "plt.bar(important_indices, [1] * len(important_indices), color='pink', label='Top sentences')\n",
        "plt.legend()\n",
        "plt.show()"
      ]
    },
    {
      "cell_type": "markdown",
      "id": "86fbcfde",
      "metadata": {
        "id": "86fbcfde"
      },
      "source": [
        "## SUMMARY"
      ]
    },
    {
      "cell_type": "markdown",
      "id": "022b33bb",
      "metadata": {
        "id": "022b33bb"
      },
      "source": [
        "In this project has successfully used the spaCy and NLTK libraries for textual data analysis. Several key functionalities have been implemented, including tokenization, word frequency analysis, and sentence counting for generalization.\n",
        "\n",
        "1. **Tokenization of text:**\n",
        "- spaCy was used to efficiently tokenize text into words and sentences.\n",
        "- NLTK was used for further text processing, including loading and using stop words to filter common words.\n",
        "\n",
        "2. **Word frequency analysis:** a method of calculating the frequency of each word in the text, ignoring case and punctuation, has been developed. This analysis helped identify the most common words, providing insight into the key themes and topics of the text.\n",
        "\n",
        "3. **Counting Sentences and Summarizing:** By counting the frequency of each word, he was able to rate sentences based on the meaning of the words they contain. Then selected the sentences with the highest scores to form a concise summary of the text, effectively capturing the main ideas and important details.\n",
        "\n",
        "4. **Normalization and Filtering:** Normalized word frequency to ensure fair scoring across sentences. Filtering out irrelevant words and punctuation ensured that our analysis focused on meaningful content.\n",
        "\n",
        "# Result:\n",
        "\n",
        "During this process, it is clear that preprocessing steps are really important, especially things like tokenization and stop word removal in natural language processing tasks. The integration of spaCy and NLTK allowed us to take advantage of the strengths of both libraries, creating a robust and efficient text analysis solution."
      ]
    }
  ],
  "metadata": {
    "kernelspec": {
      "display_name": "Python 3 (ipykernel)",
      "language": "python",
      "name": "python3"
    },
    "language_info": {
      "codemirror_mode": {
        "name": "ipython",
        "version": 3
      },
      "file_extension": ".py",
      "mimetype": "text/x-python",
      "name": "python",
      "nbconvert_exporter": "python",
      "pygments_lexer": "ipython3",
      "version": "3.11.5"
    },
    "colab": {
      "provenance": []
    }
  },
  "nbformat": 4,
  "nbformat_minor": 5
}