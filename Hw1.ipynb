{
  "nbformat": 4,
  "nbformat_minor": 0,
  "metadata": {
    "colab": {
      "provenance": []
    },
    "kernelspec": {
      "name": "python3",
      "display_name": "Python 3"
    },
    "language_info": {
      "name": "python"
    }
  },
  "cells": [
    {
      "cell_type": "markdown",
      "source": [],
      "metadata": {
        "id": "1DbnzS3WjTsY"
      }
    },
    {
      "cell_type": "markdown",
      "source": [
        "Імпортуємо необхідні бібліотеки"
      ],
      "metadata": {
        "id": "OVeQ1wQtjXEq"
      }
    },
    {
      "cell_type": "code",
      "source": [
        "import numpy as np"
      ],
      "metadata": {
        "id": "8uDXjowXjZes"
      },
      "execution_count": null,
      "outputs": []
    },
    {
      "cell_type": "markdown",
      "source": [
        "1. Створіть одновимірний масив (вектор) з першими 10-ма натуральними числами та виведіть його значення."
      ],
      "metadata": {
        "id": "5kE6-g5SjcBT"
      }
    },
    {
      "cell_type": "code",
      "source": [
        "a = np.array([ 1, 2, 3, 4, 5, 6, 7, 8, 9, 10])\n",
        "\n",
        "print(a)"
      ],
      "metadata": {
        "colab": {
          "base_uri": "https://localhost:8080/"
        },
        "id": "a7X8hoo5jfoJ",
        "outputId": "4d630b7c-be72-497d-91f7-0211219ce459"
      },
      "execution_count": 4,
      "outputs": [
        {
          "output_type": "stream",
          "name": "stdout",
          "text": [
            "[ 1  2  3  4  5  6  7  8  9 10]\n"
          ]
        }
      ]
    },
    {
      "cell_type": "markdown",
      "source": [
        "2. Створіть двовимірний масив (матрицю) розміром 3x3, заповніть його нулями та виведіть його значення."
      ],
      "metadata": {
        "id": "aQu4GG8Oji5z"
      }
    },
    {
      "cell_type": "code",
      "source": [
        "m = np.zeros((3, 3), dtype=float)\n",
        "\n",
        "print(m)"
      ],
      "metadata": {
        "colab": {
          "base_uri": "https://localhost:8080/"
        },
        "id": "mRgYNNpnjmis",
        "outputId": "51df3517-6e53-48fd-c5a9-10290ef04b45"
      },
      "execution_count": 5,
      "outputs": [
        {
          "output_type": "stream",
          "name": "stdout",
          "text": [
            "[[0. 0. 0.]\n",
            " [0. 0. 0.]\n",
            " [0. 0. 0.]]\n"
          ]
        }
      ]
    },
    {
      "cell_type": "markdown",
      "source": [
        "3. Створіть масив розміром 5x5, заповніть його випадковими цілими числами в діапазоні від 1 до 10 та виведіть його значення."
      ],
      "metadata": {
        "id": "Vi98iW0njp1c"
      }
    },
    {
      "cell_type": "code",
      "source": [
        "m = np.random.randint(1, 11, size=(5, 5))\n",
        "\n",
        "print(m)"
      ],
      "metadata": {
        "colab": {
          "base_uri": "https://localhost:8080/"
        },
        "id": "One1oaicjsZI",
        "outputId": "4d545534-19cb-47ce-f2e7-e736b874eaad"
      },
      "execution_count": 6,
      "outputs": [
        {
          "output_type": "stream",
          "name": "stdout",
          "text": [
            "[[ 6 10  4  8  6]\n",
            " [10  1  2  1  6]\n",
            " [ 8  4  8  9  1]\n",
            " [ 6  8  2  4  5]\n",
            " [ 5 10  5  3  3]]\n"
          ]
        }
      ]
    },
    {
      "cell_type": "markdown",
      "source": [
        "4. Створіть масив розміром 4x4, заповніть його випадковими дійсними числами в діапазоні від 0 до 1 та виведіть його значення."
      ],
      "metadata": {
        "id": "POzOXiTZjvqi"
      }
    },
    {
      "cell_type": "code",
      "source": [
        "m = np.random.random((4,4))\n",
        "\n",
        "print(m)"
      ],
      "metadata": {
        "colab": {
          "base_uri": "https://localhost:8080/"
        },
        "id": "G2SXMRGnjx2T",
        "outputId": "cf0eb481-b1f8-4a7b-b5e3-ab5bc63a240d"
      },
      "execution_count": 7,
      "outputs": [
        {
          "output_type": "stream",
          "name": "stdout",
          "text": [
            "[[0.32284197 0.42773457 0.3678532  0.18667559]\n",
            " [0.59334798 0.88641082 0.23690249 0.47316411]\n",
            " [0.51298807 0.56583975 0.81715269 0.10309038]\n",
            " [0.80133995 0.81208392 0.12311058 0.62511141]]\n"
          ]
        }
      ]
    },
    {
      "cell_type": "markdown",
      "source": [
        "5. Створіть два одновимірних масиви розміром 5, заповніть їх випадковими цілими числами в діапазоні від 1 до 10 та виконайте на них поелементні операції додавання, віднімання та множення."
      ],
      "metadata": {
        "id": "C5gM9ml9j1YG"
      }
    },
    {
      "cell_type": "code",
      "source": [
        "a = np.random.randint(1, 10, size=5)\n",
        "b = np.random.randint(1, 10, size=5)\n",
        "\n",
        "print(a)\n",
        "print(b)\n",
        "print(a + b)\n",
        "print(a - b)\n",
        "print(a * b)\n",
        "print(np.dot(a, b))"
      ],
      "metadata": {
        "colab": {
          "base_uri": "https://localhost:8080/"
        },
        "id": "X1MELWpXj6eR",
        "outputId": "f571898a-dd4c-4d11-acdc-46b9ad64fda8"
      },
      "execution_count": 8,
      "outputs": [
        {
          "output_type": "stream",
          "name": "stdout",
          "text": [
            "[4 5 1 2 1]\n",
            "[6 8 3 9 4]\n",
            "[10 13  4 11  5]\n",
            "[-2 -3 -2 -7 -3]\n",
            "[24 40  3 18  4]\n",
            "89\n"
          ]
        }
      ]
    },
    {
      "cell_type": "markdown",
      "source": [
        "6. Створіть два вектори розміром 7, заповніть довільними числами та знайдіть їх скалярний добуток."
      ],
      "metadata": {
        "id": "B7SE0y_ol5qM"
      }
    },
    {
      "cell_type": "code",
      "source": [
        "a = np.random.randint(1, 10, size=7)\n",
        "b = np.random.randint(1, 10, size=7)\n",
        "\n",
        "print(a)\n",
        "print(b)\n",
        "\n",
        "print(np.dot(a, b))"
      ],
      "metadata": {
        "colab": {
          "base_uri": "https://localhost:8080/"
        },
        "id": "_R4lS55Jl-mA",
        "outputId": "31c428d4-1d5e-46c0-bbdc-2fd62569fae6"
      },
      "execution_count": 9,
      "outputs": [
        {
          "output_type": "stream",
          "name": "stdout",
          "text": [
            "[3 9 6 9 4 5 2]\n",
            "[4 4 7 3 4 6 6]\n",
            "175\n"
          ]
        }
      ]
    },
    {
      "cell_type": "markdown",
      "source": [
        "7. Створіть дві матриці розміром 2x2 та 2x3, заповніть їх випадковими цілими числами в діапазоні від 1 до 10 та перемножте їх між собою."
      ],
      "metadata": {
        "id": "X-5774krmERl"
      }
    },
    {
      "cell_type": "code",
      "source": [
        "a = np.random.randint(1, 10, size=(2, 2))\n",
        "b = np.random.randint(1, 10, size=(2, 3))\n",
        "\n",
        "print(a)\n",
        "print(b)\n",
        "print(np.dot(a, b))"
      ],
      "metadata": {
        "colab": {
          "base_uri": "https://localhost:8080/"
        },
        "id": "RYDAxc-rmGi6",
        "outputId": "843707af-3411-43b7-b572-f045f388a7a9"
      },
      "execution_count": 10,
      "outputs": [
        {
          "output_type": "stream",
          "name": "stdout",
          "text": [
            "[[3 9]\n",
            " [4 2]]\n",
            "[[2 4 6]\n",
            " [1 8 9]]\n",
            "[[15 84 99]\n",
            " [10 32 42]]\n"
          ]
        }
      ]
    },
    {
      "cell_type": "markdown",
      "source": [
        "8. Створіть матрицю розміром 3x3, заповніть її випадковими цілими числами в діапазоні від 1 до 10 та знайдіть її обернену матрицю."
      ],
      "metadata": {
        "id": "3NIv9A2umKID"
      }
    },
    {
      "cell_type": "code",
      "source": [
        "m = np.random.randint(1, 10, size=(3, 3))\n",
        "\n",
        "print(m)\n",
        "\n",
        "m_inv = np.linalg.inv(m)\n",
        "\n",
        "print(m_inv)"
      ],
      "metadata": {
        "colab": {
          "base_uri": "https://localhost:8080/"
        },
        "id": "j8MM-SxFmMHr",
        "outputId": "b38fbf68-b633-4599-c2ca-b281bc2fd15b"
      },
      "execution_count": 11,
      "outputs": [
        {
          "output_type": "stream",
          "name": "stdout",
          "text": [
            "[[9 8 7]\n",
            " [8 2 9]\n",
            " [5 3 3]]\n",
            "[[-0.27272727 -0.03896104  0.75324675]\n",
            " [ 0.27272727 -0.1038961  -0.32467532]\n",
            " [ 0.18181818  0.16883117 -0.5974026 ]]\n"
          ]
        }
      ]
    },
    {
      "cell_type": "markdown",
      "source": [
        "9. Створіть матрицю розміром 4x4, заповніть її випадковими дійсними числами в діапазоні від 0 до 1 та транспонуйте її."
      ],
      "metadata": {
        "id": "LQbbd-zRmTQP"
      }
    },
    {
      "cell_type": "code",
      "source": [
        "m = np.random.random((4, 4))\n",
        "m_t = m.T\n",
        "m_t1 = np.transpose(m)\n",
        "\n",
        "print(m)\n",
        "print(m_t)\n",
        "print(m_t1)"
      ],
      "metadata": {
        "colab": {
          "base_uri": "https://localhost:8080/"
        },
        "id": "FOoDKTPEmVgs",
        "outputId": "eb2177ad-bdc0-4dfd-e8fb-11c2083c18eb"
      },
      "execution_count": 12,
      "outputs": [
        {
          "output_type": "stream",
          "name": "stdout",
          "text": [
            "[[0.00179849 0.94718167 0.22253215 0.75217974]\n",
            " [0.91431052 0.74149609 0.75748893 0.36185808]\n",
            " [0.44997965 0.35419664 0.44946778 0.16675294]\n",
            " [0.7145812  0.83772964 0.50300732 0.65127005]]\n",
            "[[0.00179849 0.91431052 0.44997965 0.7145812 ]\n",
            " [0.94718167 0.74149609 0.35419664 0.83772964]\n",
            " [0.22253215 0.75748893 0.44946778 0.50300732]\n",
            " [0.75217974 0.36185808 0.16675294 0.65127005]]\n",
            "[[0.00179849 0.91431052 0.44997965 0.7145812 ]\n",
            " [0.94718167 0.74149609 0.35419664 0.83772964]\n",
            " [0.22253215 0.75748893 0.44946778 0.50300732]\n",
            " [0.75217974 0.36185808 0.16675294 0.65127005]]\n"
          ]
        }
      ]
    },
    {
      "cell_type": "markdown",
      "source": [
        "10. Створіть матрицю розміром 3x4 та вектор розміром 4, заповніть їх випадковими цілими числами в діапазоні від 1 до 10 та перемножте матрицю на вектор."
      ],
      "metadata": {
        "id": "gpj7qE9zmxfr"
      }
    },
    {
      "cell_type": "code",
      "source": [
        "m = np.random.randint(1, 10, size = (3, 4))\n",
        "a = np.random.randint(1, 10, size = 4)\n",
        "\n",
        "print(m)\n",
        "print(a)\n",
        "print(np.dot(m, a))"
      ],
      "metadata": {
        "colab": {
          "base_uri": "https://localhost:8080/"
        },
        "id": "234Z-PBUm7HC",
        "outputId": "f2404ddb-2980-40c7-da47-a30b64d848c5"
      },
      "execution_count": 13,
      "outputs": [
        {
          "output_type": "stream",
          "name": "stdout",
          "text": [
            "[[2 4 8 2]\n",
            " [8 9 1 2]\n",
            " [7 8 4 2]]\n",
            "[6 6 2 4]\n",
            "[ 60 112 106]\n"
          ]
        }
      ]
    },
    {
      "cell_type": "markdown",
      "source": [
        "11. Створіть матрицю розміром 2x3 та вектор розміром 3, заповніть їх випадковими дійсними числами в діапазоні від 0 до 1 та перемножте матрицю на вектор."
      ],
      "metadata": {
        "id": "IkUmg25-m-gp"
      }
    },
    {
      "cell_type": "code",
      "source": [
        "m = np.random.random((2, 3))\n",
        "a = np.random.random(3)\n",
        "\n",
        "print(m)\n",
        "print(a)\n",
        "print(np.dot(m, a)) # можна так\n",
        "print(m.dot(a)) # на деяких статтях так"
      ],
      "metadata": {
        "colab": {
          "base_uri": "https://localhost:8080/"
        },
        "id": "u1QzimEynA5Q",
        "outputId": "2f05a502-eae6-4d7f-ff5f-7df0193d4abd"
      },
      "execution_count": 14,
      "outputs": [
        {
          "output_type": "stream",
          "name": "stdout",
          "text": [
            "[[0.6135871  0.79781941 0.23639329]\n",
            " [0.22136912 0.12525937 0.52149576]]\n",
            "[0.20916688 0.34667273 0.77433468]\n",
            "[0.58797185 0.49353935]\n",
            "[0.58797185 0.49353935]\n"
          ]
        }
      ]
    },
    {
      "cell_type": "markdown",
      "source": [
        "12. Створіть дві матриці розміром 2x2, заповніть їх випадковими цілими числами в діапазоні від 1 до 10 та виконайте їхнє поелементне множення."
      ],
      "metadata": {
        "id": "ZUXGdAgjnEfv"
      }
    },
    {
      "cell_type": "code",
      "source": [
        "m1 = np.random.randint(1, 10, size = (2, 2))\n",
        "m2 = np.random.randint(1, 10, size = (2, 2))\n",
        "\n",
        "print(m1)\n",
        "print(m2)\n",
        "\n",
        "print(m1 * m2)"
      ],
      "metadata": {
        "colab": {
          "base_uri": "https://localhost:8080/"
        },
        "id": "E0q8iL6VnG3F",
        "outputId": "45faaf38-8042-4997-c38e-b6fa3355297f"
      },
      "execution_count": 15,
      "outputs": [
        {
          "output_type": "stream",
          "name": "stdout",
          "text": [
            "[[4 2]\n",
            " [5 8]]\n",
            "[[3 3]\n",
            " [9 8]]\n",
            "[[12  6]\n",
            " [45 64]]\n"
          ]
        }
      ]
    },
    {
      "cell_type": "markdown",
      "source": [
        "13. Створіть дві матриці розміром 2x2, заповніть їх випадковими цілими числами в діапазоні від 1 до 10 та знайдіть їх добуток."
      ],
      "metadata": {
        "id": "r7Oh9-fBnLqD"
      }
    },
    {
      "cell_type": "code",
      "source": [
        "m1 = np.random.randint(1, 10, size = (2, 2))\n",
        "\n",
        "print(m1)\n",
        "print(m1.prod())"
      ],
      "metadata": {
        "colab": {
          "base_uri": "https://localhost:8080/"
        },
        "id": "I4RAmLTPnOac",
        "outputId": "55939951-68e2-4c17-f743-741be41aee07"
      },
      "execution_count": 16,
      "outputs": [
        {
          "output_type": "stream",
          "name": "stdout",
          "text": [
            "[[5 9]\n",
            " [3 7]]\n",
            "945\n"
          ]
        }
      ]
    },
    {
      "cell_type": "markdown",
      "source": [
        "14. Створіть матрицю розміром 5x5, заповніть її випадковими цілими числами в діапазоні від 1 до 100 та знайдіть суму елементів матриці."
      ],
      "metadata": {
        "id": "lMbfhCoAnTZG"
      }
    },
    {
      "cell_type": "code",
      "source": [
        "m = np.random.randint(1, 100, size = (5, 5))\n",
        "print(m)\n",
        "print(m.sum())"
      ],
      "metadata": {
        "colab": {
          "base_uri": "https://localhost:8080/"
        },
        "id": "n7o4ERc9nV9X",
        "outputId": "34e1fe4d-75c5-44d1-9a58-e34b25f5828b"
      },
      "execution_count": 17,
      "outputs": [
        {
          "output_type": "stream",
          "name": "stdout",
          "text": [
            "[[32  8 85 41  6]\n",
            " [91 10 89  9  2]\n",
            " [89 94 41 14 19]\n",
            " [15 82 70 13 74]\n",
            " [69 55 81 59 92]]\n",
            "1240\n"
          ]
        }
      ]
    },
    {
      "cell_type": "markdown",
      "source": [
        "15. Створіть дві матриці розміром 4x4, заповніть їх випадковими цілими числами в діапазоні від 1 до 10 та знайдіть їхню різницю."
      ],
      "metadata": {
        "id": "DZkPqk3hnYf7"
      }
    },
    {
      "cell_type": "code",
      "source": [
        "m = np.random.randint(1, 10, size=(4, 4))\n",
        "n = np.random.randint(1, 10, size=(4, 4))\n",
        "\n",
        "print(m)\n",
        "print(n)\n",
        "print(m - n)"
      ],
      "metadata": {
        "colab": {
          "base_uri": "https://localhost:8080/"
        },
        "id": "8cXyta2Hnc7V",
        "outputId": "6be16065-08c0-473e-c182-a77e727116e7"
      },
      "execution_count": 18,
      "outputs": [
        {
          "output_type": "stream",
          "name": "stdout",
          "text": [
            "[[5 4 7 2]\n",
            " [8 7 9 8]\n",
            " [7 2 5 1]\n",
            " [5 7 2 7]]\n",
            "[[6 8 6 6]\n",
            " [2 9 2 3]\n",
            " [3 7 5 5]\n",
            " [2 8 3 8]]\n",
            "[[-1 -4  1 -4]\n",
            " [ 6 -2  7  5]\n",
            " [ 4 -5  0 -4]\n",
            " [ 3 -1 -1 -1]]\n"
          ]
        }
      ]
    },
    {
      "cell_type": "markdown",
      "source": [
        "16. Створіть матрицю розміром 3x3, заповніть її випадковими дійсними числами в діапазоні від 0 до 1 та знайдіть вектор-стовпчик, що містить суму елементів кожного рядка матриці."
      ],
      "metadata": {
        "id": "2YQ2SRE7ngK2"
      }
    },
    {
      "cell_type": "code",
      "source": [
        "m = np.random.random((3, 3))\n",
        "print(m)\n",
        "a = np.sum(m, axis=1, keepdims=True)\n",
        "print(a)"
      ],
      "metadata": {
        "colab": {
          "base_uri": "https://localhost:8080/"
        },
        "id": "o35XbaQhnjAh",
        "outputId": "f7b1acad-7108-4869-dfee-8ab3ce3aa355"
      },
      "execution_count": 19,
      "outputs": [
        {
          "output_type": "stream",
          "name": "stdout",
          "text": [
            "[[0.23145433 0.45221202 0.65356879]\n",
            " [0.30904844 0.65508606 0.56486092]\n",
            " [0.55413419 0.94404219 0.38094653]]\n",
            "[[1.33723514]\n",
            " [1.52899542]\n",
            " [1.87912291]]\n"
          ]
        }
      ]
    },
    {
      "cell_type": "markdown",
      "source": [
        "17. Створіть матрицю розміром 3x4 з довільними цілими числами і створінь матрицю з квадратами цих чисел."
      ],
      "metadata": {
        "id": "PRLHffyBnloh"
      }
    },
    {
      "cell_type": "code",
      "source": [
        "m = np.random.randint(1, 5, size=(3, 4))\n",
        "r = m ** 2\n",
        "\n",
        "print(m)\n",
        "print(r)"
      ],
      "metadata": {
        "colab": {
          "base_uri": "https://localhost:8080/"
        },
        "id": "jc4LKI0bnoA3",
        "outputId": "ae650def-d86a-4e4b-ce34-6c29f4d794b8"
      },
      "execution_count": 20,
      "outputs": [
        {
          "output_type": "stream",
          "name": "stdout",
          "text": [
            "[[2 2 3 3]\n",
            " [1 2 3 2]\n",
            " [2 4 2 3]]\n",
            "[[ 4  4  9  9]\n",
            " [ 1  4  9  4]\n",
            " [ 4 16  4  9]]\n"
          ]
        }
      ]
    },
    {
      "cell_type": "markdown",
      "source": [
        "18. Створіть вектор розміром 4, заповніть його випадковими цілими числами в діапазоні від 1 до 50 та знайдіть вектор з квадратними коренями цих чисел."
      ],
      "metadata": {
        "id": "bgY3yVZunqil"
      }
    },
    {
      "cell_type": "code",
      "source": [
        "a = np.random.randint(1, 50, size=(4))\n",
        "print(a)\n",
        "b = a ** 0.5\n",
        "print(b)"
      ],
      "metadata": {
        "colab": {
          "base_uri": "https://localhost:8080/"
        },
        "id": "9hb9JZIbnsnq",
        "outputId": "011cb797-001c-4010-f3fa-2cf67831bb07"
      },
      "execution_count": 21,
      "outputs": [
        {
          "output_type": "stream",
          "name": "stdout",
          "text": [
            "[24 48 12 42]\n",
            "[4.89897949 6.92820323 3.46410162 6.4807407 ]\n"
          ]
        }
      ]
    }
  ]
}